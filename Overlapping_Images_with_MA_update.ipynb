{
 "cells": [
  {
   "cell_type": "markdown",
   "metadata": {
    "toc": "true"
   },
   "source": [
    "# Table of Contents\n",
    " <p>"
   ]
  },
  {
   "cell_type": "code",
   "execution_count": 2,
   "metadata": {
    "ExecuteTime": {
     "end_time": "2017-07-31T23:42:13.693854Z",
     "start_time": "2017-07-31T23:42:13.490790Z"
    },
    "scrolled": true
   },
   "outputs": [],
   "source": [
    "from planet4 import io, region_data, markings\n",
    "# from p4_tools import get_final_markings_counts\n",
    "import pandas as pd\n",
    "import numpy as np\n",
    "import matplotlib.pyplot as plt\n",
    "import scipy.stats as stats\n",
    "from scipy.optimize import root, curve_fit, leastsq\n",
    "import pdb\n",
    "import shapely.geometry as shp\n",
    "import fiona as fio\n",
    "from shapely import affinity\n",
    "from shapely.ops import cascaded_union, unary_union\n",
    "import time"
   ]
  },
  {
   "cell_type": "code",
   "execution_count": 6,
   "metadata": {
    "ExecuteTime": {
     "end_time": "2017-07-31T23:43:01.920704Z",
     "start_time": "2017-07-31T23:43:01.897794Z"
    }
   },
   "outputs": [
    {
     "name": "stdout",
     "output_type": "stream",
     "text": [
      "/Users/klay6683/Dropbox/p4_4Chase/ithaca\n"
     ]
    }
   ],
   "source": [
    "cd ~/Dropbox/p4_4Chase/ithaca"
   ]
  },
  {
   "cell_type": "code",
   "execution_count": 8,
   "metadata": {
    "ExecuteTime": {
     "end_time": "2017-07-31T23:43:33.138661Z",
     "start_time": "2017-07-31T23:43:32.954379Z"
    },
    "scrolled": false
   },
   "outputs": [],
   "source": [
    "# read out metadata for season 2 and 3\n",
    "meta = pd.read_csv('ithaca_metadata.csv')\n",
    "\n",
    "# read out actual markings for fans and blotches, both seasons combined\n",
    "fans = pd.read_csv('ithaca_fans.csv')\n",
    "blotches = pd.read_csv('ithaca_blotches.csv')\n",
    "\n",
    "# read out tile coordinate data\n",
    "tiles = pd.read_csv('../ithaca_tile_coords.csv')"
   ]
  },
  {
   "cell_type": "code",
   "execution_count": 9,
   "metadata": {
    "ExecuteTime": {
     "end_time": "2017-07-31T23:43:34.792494Z",
     "start_time": "2017-07-31T23:43:34.703048Z"
    },
    "scrolled": true
   },
   "outputs": [],
   "source": [
    "# find unique obsids in the fans and blotches catalogs\n",
    "fimg_names = fans.image_name.unique()\n",
    "bimg_names = blotches.image_name.unique()\n",
    "fimg_id = fans.image_id.unique()\n",
    "bimg_id = blotches.image_id.unique()\n",
    "\n",
    "pd.set_option('max_columns', 40)\n",
    "\n",
    "fans = fans.merge(tiles)\n",
    "blotches = blotches.merge(tiles)\n",
    "\n",
    "blotches['area'] = np.pi * blotches.radius_1 * blotches.radius_2\n",
    "\n",
    "for frame in [fans, blotches]:\n",
    "    frame['tile_lat'] = frame['PlanetocentricLatitude']\n",
    "    frame['tile_lon'] = frame['PositiveEast360Longitude']\n",
    "    frame['image_id'] = frame['image_id']\n"
   ]
  },
  {
   "cell_type": "code",
   "execution_count": 11,
   "metadata": {
    "ExecuteTime": {
     "end_time": "2017-07-31T23:44:21.886542Z",
     "start_time": "2017-07-31T23:44:21.855097Z"
    },
    "scrolled": true
   },
   "outputs": [
    {
     "name": "stdout",
     "output_type": "stream",
     "text": [
      "maximum map_scale: 1.0 ; min_fan_marking: 10.0 ; min_bl_area: 314.159265359\n"
     ]
    }
   ],
   "source": [
    "# find what size fans should be removed for fair comparison\n",
    "min_fan_pixels = fans.distance.min()\n",
    "min_bl_area = blotches.area.min()\n",
    "\n",
    "max_scale = np.max( meta.map_scale.max() )\n",
    "print('maximum map_scale:',  max_scale, '; min_fan_marking:', min_fan_pixels, '; min_bl_area:', min_bl_area)\n",
    "\n",
    "# if the minimal fan marking tool is = 10 pixels at max_bin = 4, it will correspond to  \n",
    "# min_fan_pixels * max_binning / image_binning\n",
    "meta['min_fan'] = min_fan_pixels * meta.map_scale.max() // meta.map_scale + 1\n",
    "\n",
    "# if the minimal blotch marking tool is = 80 sq. pixels at max_bin = 4, it will correspond to  \n",
    "# min_bl_area * max_binning^2 / image_binning^2\n",
    "meta['min_bl'] = min_bl_area * meta.map_scale.max()**2 // meta.map_scale**2 + 1\n"
   ]
  },
  {
   "cell_type": "code",
   "execution_count": 12,
   "metadata": {
    "ExecuteTime": {
     "end_time": "2017-07-31T23:44:29.429487Z",
     "start_time": "2017-07-31T23:44:29.334875Z"
    },
    "scrolled": true
   },
   "outputs": [],
   "source": [
    "blotches = blotches.merge(meta)\n",
    "fans = fans.merge(meta)\n",
    "blotches['type'] = 'b'\n",
    "fans['type'] = 'f'\n",
    "\n",
    "blotches['valid_marking'] = blotches.area > blotches.min_bl\n",
    "fans['valid_marking'] = fans.distance > fans.min_fan\n",
    "\n",
    "true_fans = fans[fans.valid_marking==True]\n",
    "true_blotches = blotches[blotches.valid_marking==True]"
   ]
  },
  {
   "cell_type": "code",
   "execution_count": 15,
   "metadata": {
    "ExecuteTime": {
     "end_time": "2017-07-31T23:44:50.993631Z",
     "start_time": "2017-07-31T23:44:50.912048Z"
    },
    "scrolled": true
   },
   "outputs": [
    {
     "data": {
      "text/html": [
       "<div>\n",
       "<style>\n",
       "    .dataframe thead tr:only-child th {\n",
       "        text-align: right;\n",
       "    }\n",
       "\n",
       "    .dataframe thead th {\n",
       "        text-align: left;\n",
       "    }\n",
       "\n",
       "    .dataframe tbody tr th {\n",
       "        vertical-align: top;\n",
       "    }\n",
       "</style>\n",
       "<table border=\"1\" class=\"dataframe\">\n",
       "  <thead>\n",
       "    <tr style=\"text-align: right;\">\n",
       "      <th></th>\n",
       "      <th>PlanetocentricLatitude</th>\n",
       "      <th>PlanetographicLatitude</th>\n",
       "      <th>PositiveEast360Longitude</th>\n",
       "      <th>Unnamed: 0</th>\n",
       "      <th>angle</th>\n",
       "      <th>area</th>\n",
       "      <th>binning</th>\n",
       "      <th>distance</th>\n",
       "      <th>image_id</th>\n",
       "      <th>image_name</th>\n",
       "      <th>image_x</th>\n",
       "      <th>image_y</th>\n",
       "      <th>invalids</th>\n",
       "      <th>l_s</th>\n",
       "      <th>line_samples</th>\n",
       "      <th>lines</th>\n",
       "      <th>map_scale</th>\n",
       "      <th>min_bl</th>\n",
       "      <th>min_fan</th>\n",
       "      <th>n_votes</th>\n",
       "      <th>...</th>\n",
       "      <th>radius_1</th>\n",
       "      <th>radius_2</th>\n",
       "      <th>real_area</th>\n",
       "      <th>season</th>\n",
       "      <th>spread</th>\n",
       "      <th>tile_lat</th>\n",
       "      <th>tile_lon</th>\n",
       "      <th>type</th>\n",
       "      <th>valid_marking</th>\n",
       "      <th>version</th>\n",
       "      <th>vote_ratio</th>\n",
       "      <th>x</th>\n",
       "      <th>x_angle</th>\n",
       "      <th>x_hirise</th>\n",
       "      <th>x_tile</th>\n",
       "      <th>xy_hirise</th>\n",
       "      <th>y</th>\n",
       "      <th>y_angle</th>\n",
       "      <th>y_hirise</th>\n",
       "      <th>y_tile</th>\n",
       "    </tr>\n",
       "  </thead>\n",
       "  <tbody>\n",
       "    <tr>\n",
       "      <th>0</th>\n",
       "      <td>-85.064139</td>\n",
       "      <td>-85.121792</td>\n",
       "      <td>181.157947</td>\n",
       "      <td>62</td>\n",
       "      <td>208.810277</td>\n",
       "      <td>NaN</td>\n",
       "      <td>[-9998, -9998, -9998, -9998, 2, 2, -9998, -999...</td>\n",
       "      <td>89.036506</td>\n",
       "      <td>APF0000an2</td>\n",
       "      <td>ESP_011350_0945</td>\n",
       "      <td>107.085714</td>\n",
       "      <td>34055.285714</td>\n",
       "      <td>0.697406</td>\n",
       "      <td>181.205092</td>\n",
       "      <td>8168</td>\n",
       "      <td>37649</td>\n",
       "      <td>0.5</td>\n",
       "      <td>1257.0</td>\n",
       "      <td>21.0</td>\n",
       "      <td>63</td>\n",
       "      <td>...</td>\n",
       "      <td>NaN</td>\n",
       "      <td>NaN</td>\n",
       "      <td>2.326323e+07</td>\n",
       "      <td>season2</td>\n",
       "      <td>78.662848</td>\n",
       "      <td>-85.064139</td>\n",
       "      <td>181.157947</td>\n",
       "      <td>f</td>\n",
       "      <td>True</td>\n",
       "      <td>1.0</td>\n",
       "      <td>NaN</td>\n",
       "      <td>107.085714</td>\n",
       "      <td>-0.829266</td>\n",
       "      <td>420.0</td>\n",
       "      <td>1</td>\n",
       "      <td>(420.0, 34300.0)</td>\n",
       "      <td>79.285714</td>\n",
       "      <td>-0.456087</td>\n",
       "      <td>34300.0</td>\n",
       "      <td>63</td>\n",
       "    </tr>\n",
       "    <tr>\n",
       "      <th>1</th>\n",
       "      <td>-85.064139</td>\n",
       "      <td>-85.121792</td>\n",
       "      <td>181.157947</td>\n",
       "      <td>62</td>\n",
       "      <td>211.974420</td>\n",
       "      <td>NaN</td>\n",
       "      <td>[-9998, -9998, -9998, -9998, 2, 2, -9998, -999...</td>\n",
       "      <td>98.485588</td>\n",
       "      <td>APF0000an2</td>\n",
       "      <td>ESP_011350_0945</td>\n",
       "      <td>770.463636</td>\n",
       "      <td>34392.288312</td>\n",
       "      <td>0.697406</td>\n",
       "      <td>181.205092</td>\n",
       "      <td>8168</td>\n",
       "      <td>37649</td>\n",
       "      <td>0.5</td>\n",
       "      <td>1257.0</td>\n",
       "      <td>21.0</td>\n",
       "      <td>77</td>\n",
       "      <td>...</td>\n",
       "      <td>NaN</td>\n",
       "      <td>NaN</td>\n",
       "      <td>2.326323e+07</td>\n",
       "      <td>season2</td>\n",
       "      <td>62.082168</td>\n",
       "      <td>-85.064139</td>\n",
       "      <td>181.157947</td>\n",
       "      <td>f</td>\n",
       "      <td>True</td>\n",
       "      <td>1.0</td>\n",
       "      <td>NaN</td>\n",
       "      <td>770.463636</td>\n",
       "      <td>-0.744282</td>\n",
       "      <td>420.0</td>\n",
       "      <td>1</td>\n",
       "      <td>(420.0, 34300.0)</td>\n",
       "      <td>416.288312</td>\n",
       "      <td>-0.464617</td>\n",
       "      <td>34300.0</td>\n",
       "      <td>63</td>\n",
       "    </tr>\n",
       "    <tr>\n",
       "      <th>2</th>\n",
       "      <td>-85.064139</td>\n",
       "      <td>-85.121792</td>\n",
       "      <td>181.157947</td>\n",
       "      <td>62</td>\n",
       "      <td>207.651635</td>\n",
       "      <td>NaN</td>\n",
       "      <td>[-9998, -9998, -9998, -9998, 2, 2, -9998, -999...</td>\n",
       "      <td>60.479072</td>\n",
       "      <td>APF0000an2</td>\n",
       "      <td>ESP_011350_0945</td>\n",
       "      <td>252.687301</td>\n",
       "      <td>34186.139683</td>\n",
       "      <td>0.697406</td>\n",
       "      <td>181.205092</td>\n",
       "      <td>8168</td>\n",
       "      <td>37649</td>\n",
       "      <td>0.5</td>\n",
       "      <td>1257.0</td>\n",
       "      <td>21.0</td>\n",
       "      <td>63</td>\n",
       "      <td>...</td>\n",
       "      <td>NaN</td>\n",
       "      <td>NaN</td>\n",
       "      <td>2.326323e+07</td>\n",
       "      <td>season2</td>\n",
       "      <td>89.829668</td>\n",
       "      <td>-85.064139</td>\n",
       "      <td>181.157947</td>\n",
       "      <td>f</td>\n",
       "      <td>True</td>\n",
       "      <td>1.0</td>\n",
       "      <td>NaN</td>\n",
       "      <td>252.687301</td>\n",
       "      <td>-0.845097</td>\n",
       "      <td>420.0</td>\n",
       "      <td>1</td>\n",
       "      <td>(420.0, 34300.0)</td>\n",
       "      <td>210.139683</td>\n",
       "      <td>-0.442776</td>\n",
       "      <td>34300.0</td>\n",
       "      <td>63</td>\n",
       "    </tr>\n",
       "    <tr>\n",
       "      <th>3</th>\n",
       "      <td>-85.064139</td>\n",
       "      <td>-85.121792</td>\n",
       "      <td>181.157947</td>\n",
       "      <td>62</td>\n",
       "      <td>200.813312</td>\n",
       "      <td>NaN</td>\n",
       "      <td>[-9998, -9998, -9998, -9998, 2, 2, -9998, -999...</td>\n",
       "      <td>28.651956</td>\n",
       "      <td>APF0000an2</td>\n",
       "      <td>ESP_011350_0945</td>\n",
       "      <td>714.342105</td>\n",
       "      <td>34438.842105</td>\n",
       "      <td>0.697406</td>\n",
       "      <td>181.205092</td>\n",
       "      <td>8168</td>\n",
       "      <td>37649</td>\n",
       "      <td>0.5</td>\n",
       "      <td>1257.0</td>\n",
       "      <td>21.0</td>\n",
       "      <td>19</td>\n",
       "      <td>...</td>\n",
       "      <td>NaN</td>\n",
       "      <td>NaN</td>\n",
       "      <td>2.326323e+07</td>\n",
       "      <td>season2</td>\n",
       "      <td>64.990934</td>\n",
       "      <td>-85.064139</td>\n",
       "      <td>181.157947</td>\n",
       "      <td>f</td>\n",
       "      <td>True</td>\n",
       "      <td>1.0</td>\n",
       "      <td>0.643333</td>\n",
       "      <td>714.342105</td>\n",
       "      <td>-0.920060</td>\n",
       "      <td>420.0</td>\n",
       "      <td>1</td>\n",
       "      <td>(420.0, 34300.0)</td>\n",
       "      <td>462.842105</td>\n",
       "      <td>-0.349743</td>\n",
       "      <td>34300.0</td>\n",
       "      <td>63</td>\n",
       "    </tr>\n",
       "    <tr>\n",
       "      <th>4</th>\n",
       "      <td>-85.173719</td>\n",
       "      <td>-85.230104</td>\n",
       "      <td>181.303269</td>\n",
       "      <td>103</td>\n",
       "      <td>158.552456</td>\n",
       "      <td>NaN</td>\n",
       "      <td>[-9998, -9998, -9998, -9998, 2, 2, -9998, -999...</td>\n",
       "      <td>72.472999</td>\n",
       "      <td>APF0000an3</td>\n",
       "      <td>ESP_011350_0945</td>\n",
       "      <td>1455.916667</td>\n",
       "      <td>22532.833333</td>\n",
       "      <td>0.697406</td>\n",
       "      <td>181.205092</td>\n",
       "      <td>8168</td>\n",
       "      <td>37649</td>\n",
       "      <td>0.5</td>\n",
       "      <td>1257.0</td>\n",
       "      <td>21.0</td>\n",
       "      <td>6</td>\n",
       "      <td>...</td>\n",
       "      <td>NaN</td>\n",
       "      <td>NaN</td>\n",
       "      <td>2.326323e+07</td>\n",
       "      <td>season2</td>\n",
       "      <td>69.989781</td>\n",
       "      <td>-85.173719</td>\n",
       "      <td>181.303269</td>\n",
       "      <td>f</td>\n",
       "      <td>True</td>\n",
       "      <td>1.0</td>\n",
       "      <td>NaN</td>\n",
       "      <td>715.916667</td>\n",
       "      <td>-0.920699</td>\n",
       "      <td>1160.0</td>\n",
       "      <td>2</td>\n",
       "      <td>(1160.0, 22244.0)</td>\n",
       "      <td>612.833333</td>\n",
       "      <td>0.361700</td>\n",
       "      <td>22244.0</td>\n",
       "      <td>41</td>\n",
       "    </tr>\n",
       "  </tbody>\n",
       "</table>\n",
       "<p>5 rows × 43 columns</p>\n",
       "</div>"
      ],
      "text/plain": [
       "   PlanetocentricLatitude  PlanetographicLatitude  PositiveEast360Longitude  \\\n",
       "0              -85.064139              -85.121792                181.157947   \n",
       "1              -85.064139              -85.121792                181.157947   \n",
       "2              -85.064139              -85.121792                181.157947   \n",
       "3              -85.064139              -85.121792                181.157947   \n",
       "4              -85.173719              -85.230104                181.303269   \n",
       "\n",
       "   Unnamed: 0       angle  area  \\\n",
       "0          62  208.810277   NaN   \n",
       "1          62  211.974420   NaN   \n",
       "2          62  207.651635   NaN   \n",
       "3          62  200.813312   NaN   \n",
       "4         103  158.552456   NaN   \n",
       "\n",
       "                                             binning   distance    image_id  \\\n",
       "0  [-9998, -9998, -9998, -9998, 2, 2, -9998, -999...  89.036506  APF0000an2   \n",
       "1  [-9998, -9998, -9998, -9998, 2, 2, -9998, -999...  98.485588  APF0000an2   \n",
       "2  [-9998, -9998, -9998, -9998, 2, 2, -9998, -999...  60.479072  APF0000an2   \n",
       "3  [-9998, -9998, -9998, -9998, 2, 2, -9998, -999...  28.651956  APF0000an2   \n",
       "4  [-9998, -9998, -9998, -9998, 2, 2, -9998, -999...  72.472999  APF0000an3   \n",
       "\n",
       "        image_name      image_x       image_y  invalids         l_s  \\\n",
       "0  ESP_011350_0945   107.085714  34055.285714  0.697406  181.205092   \n",
       "1  ESP_011350_0945   770.463636  34392.288312  0.697406  181.205092   \n",
       "2  ESP_011350_0945   252.687301  34186.139683  0.697406  181.205092   \n",
       "3  ESP_011350_0945   714.342105  34438.842105  0.697406  181.205092   \n",
       "4  ESP_011350_0945  1455.916667  22532.833333  0.697406  181.205092   \n",
       "\n",
       "   line_samples  lines  map_scale  min_bl  min_fan  n_votes   ...    radius_1  \\\n",
       "0          8168  37649        0.5  1257.0     21.0       63   ...         NaN   \n",
       "1          8168  37649        0.5  1257.0     21.0       77   ...         NaN   \n",
       "2          8168  37649        0.5  1257.0     21.0       63   ...         NaN   \n",
       "3          8168  37649        0.5  1257.0     21.0       19   ...         NaN   \n",
       "4          8168  37649        0.5  1257.0     21.0        6   ...         NaN   \n",
       "\n",
       "  radius_2     real_area   season     spread   tile_lat    tile_lon  type  \\\n",
       "0      NaN  2.326323e+07  season2  78.662848 -85.064139  181.157947     f   \n",
       "1      NaN  2.326323e+07  season2  62.082168 -85.064139  181.157947     f   \n",
       "2      NaN  2.326323e+07  season2  89.829668 -85.064139  181.157947     f   \n",
       "3      NaN  2.326323e+07  season2  64.990934 -85.064139  181.157947     f   \n",
       "4      NaN  2.326323e+07  season2  69.989781 -85.173719  181.303269     f   \n",
       "\n",
       "   valid_marking  version vote_ratio           x   x_angle  x_hirise  x_tile  \\\n",
       "0           True      1.0        NaN  107.085714 -0.829266     420.0       1   \n",
       "1           True      1.0        NaN  770.463636 -0.744282     420.0       1   \n",
       "2           True      1.0        NaN  252.687301 -0.845097     420.0       1   \n",
       "3           True      1.0   0.643333  714.342105 -0.920060     420.0       1   \n",
       "4           True      1.0        NaN  715.916667 -0.920699    1160.0       2   \n",
       "\n",
       "           xy_hirise           y   y_angle y_hirise  y_tile  \n",
       "0   (420.0, 34300.0)   79.285714 -0.456087  34300.0      63  \n",
       "1   (420.0, 34300.0)  416.288312 -0.464617  34300.0      63  \n",
       "2   (420.0, 34300.0)  210.139683 -0.442776  34300.0      63  \n",
       "3   (420.0, 34300.0)  462.842105 -0.349743  34300.0      63  \n",
       "4  (1160.0, 22244.0)  612.833333  0.361700  22244.0      41  \n",
       "\n",
       "[5 rows x 43 columns]"
      ]
     },
     "execution_count": 15,
     "metadata": {},
     "output_type": "execute_result"
    }
   ],
   "source": [
    "objects = pd.concat([true_fans, true_blotches])\n",
    "objects.head()"
   ]
  },
  {
   "cell_type": "code",
   "execution_count": 16,
   "metadata": {
    "ExecuteTime": {
     "end_time": "2017-07-31T23:47:27.095674Z",
     "start_time": "2017-07-31T23:47:27.050814Z"
    },
    "scrolled": true
   },
   "outputs": [],
   "source": [
    "\n",
    "objects.rename(columns={'image_name':'name'}, inplace=True)\n",
    "# objects.binning.iloc[0]\n",
    "# def get_bins(binning):\n",
    "#     arr = np.fromstring(binning.strip('[]'), dtype=np.int, sep=',')\n",
    "#     return arr[4]\n",
    "# objects.head(4)"
   ]
  },
  {
   "cell_type": "code",
   "execution_count": 18,
   "metadata": {
    "ExecuteTime": {
     "end_time": "2017-07-31T23:49:26.467783Z",
     "start_time": "2017-07-31T23:49:26.412823Z"
    },
    "scrolled": true
   },
   "outputs": [],
   "source": [
    "# get list of unique images\n",
    "img_unique = objects.name.unique()\n",
    "\n",
    "# add columns for coverage and season in the meta dataframe\n",
    "# meta['coverage'] = 0\n",
    "# meta['coverage_redundant'] = 0\n",
    "\n",
    "\n",
    "# record type of each object - they are still in order from concatenation so this can be done with indexing\n",
    "# split = len(fans.valid_marking[fans.valid_marking==True])\n",
    "# objects.loc[:split,'type'] = 'f'\n",
    "# objects.loc[split:,'type'] = 'b'\n",
    "\n",
    "#re-sort objects according to image, so that blotches and fans for the same image won't be split up\n",
    "objects = objects.sort_values(by='name').reset_index(drop=True)\n",
    "meta = meta.sort_values(by='obsid').reset_index(drop=True)"
   ]
  },
  {
   "cell_type": "code",
   "execution_count": 26,
   "metadata": {
    "ExecuteTime": {
     "end_time": "2017-07-31T23:53:25.594434Z",
     "start_time": "2017-07-31T23:53:25.572066Z"
    }
   },
   "outputs": [],
   "source": [
    "%matplotlib inline"
   ]
  },
  {
   "cell_type": "code",
   "execution_count": 27,
   "metadata": {
    "ExecuteTime": {
     "end_time": "2017-07-31T23:53:26.355894Z",
     "start_time": "2017-07-31T23:53:25.988610Z"
    },
    "scrolled": true
   },
   "outputs": [
    {
     "data": {
      "text/plain": [
       "<matplotlib.figure.Figure at 0x1259bf978>"
      ]
     },
     "execution_count": 27,
     "metadata": {},
     "output_type": "execute_result"
    },
    {
     "data": {
      "text/plain": [
       "[<matplotlib.lines.Line2D at 0x125e22198>]"
      ]
     },
     "execution_count": 27,
     "metadata": {},
     "output_type": "execute_result"
    },
    {
     "data": {
      "text/plain": [
       "[<matplotlib.lines.Line2D at 0x1255150b8>]"
      ]
     },
     "execution_count": 27,
     "metadata": {},
     "output_type": "execute_result"
    },
    {
     "data": {
      "text/plain": [
       "[<matplotlib.lines.Line2D at 0x1255022e8>]"
      ]
     },
     "execution_count": 27,
     "metadata": {},
     "output_type": "execute_result"
    },
    {
     "data": {
      "text/plain": [
       "[<matplotlib.lines.Line2D at 0x125524908>]"
      ]
     },
     "execution_count": 27,
     "metadata": {},
     "output_type": "execute_result"
    },
    {
     "data": {
      "text/plain": [
       "[<matplotlib.lines.Line2D at 0x125e22ef0>]"
      ]
     },
     "execution_count": 27,
     "metadata": {},
     "output_type": "execute_result"
    },
    {
     "data": {
      "text/plain": [
       "[<matplotlib.lines.Line2D at 0x125e2c978>]"
      ]
     },
     "execution_count": 27,
     "metadata": {},
     "output_type": "execute_result"
    },
    {
     "data": {
      "text/plain": [
       "[<matplotlib.lines.Line2D at 0x125e2cf60>]"
      ]
     },
     "execution_count": 27,
     "metadata": {},
     "output_type": "execute_result"
    },
    {
     "data": {
      "text/plain": [
       "[<matplotlib.lines.Line2D at 0x125e3da20>]"
      ]
     },
     "execution_count": 27,
     "metadata": {},
     "output_type": "execute_result"
    },
    {
     "data": {
      "text/plain": [
       "[<matplotlib.lines.Line2D at 0x125a0a320>]"
      ]
     },
     "execution_count": 27,
     "metadata": {},
     "output_type": "execute_result"
    },
    {
     "data": {
      "text/plain": [
       "[<matplotlib.lines.Line2D at 0x125e2c7f0>]"
      ]
     },
     "execution_count": 27,
     "metadata": {},
     "output_type": "execute_result"
    },
    {
     "data": {
      "text/plain": [
       "[<matplotlib.lines.Line2D at 0x125d4d320>]"
      ]
     },
     "execution_count": 27,
     "metadata": {},
     "output_type": "execute_result"
    },
    {
     "data": {
      "text/plain": [
       "[<matplotlib.lines.Line2D at 0x125a14be0>]"
      ]
     },
     "execution_count": 27,
     "metadata": {},
     "output_type": "execute_result"
    },
    {
     "data": {
      "text/plain": [
       "[<matplotlib.lines.Line2D at 0x125a18630>]"
      ]
     },
     "execution_count": 27,
     "metadata": {},
     "output_type": "execute_result"
    },
    {
     "data": {
      "text/plain": [
       "[<matplotlib.lines.Line2D at 0x125a14f60>]"
      ]
     },
     "execution_count": 27,
     "metadata": {},
     "output_type": "execute_result"
    },
    {
     "data": {
      "text/plain": [
       "[<matplotlib.lines.Line2D at 0x125a0afd0>]"
      ]
     },
     "execution_count": 27,
     "metadata": {},
     "output_type": "execute_result"
    },
    {
     "data": {
      "text/plain": [
       "[<matplotlib.lines.Line2D at 0x125a14e48>]"
      ]
     },
     "execution_count": 27,
     "metadata": {},
     "output_type": "execute_result"
    },
    {
     "data": {
      "image/png": "[encoded data removed]",
      "text/plain": [
       "<matplotlib.figure.Figure at 0x1259bf978>"
      ]
     },
     "metadata": {},
     "output_type": "display_data"
    }
   ],
   "source": [
    "# create a list to store points corresponding to the corners (bounds) of each HiRise image\n",
    "# and a list to store the polygons made from the sets of points\n",
    "points = [None] * 4\n",
    "img_shapes = [None] * len(img_unique)\n",
    "plt.figure(1)\n",
    "for i,img_name in enumerate(img_unique):\n",
    "    df = objects.query('name==@img_name')\n",
    "    boundshi = df.tile_lat.max()\n",
    "    boundsri = df.tile_lon.max()\n",
    "    boundslo = df.tile_lat.min()\n",
    "    boundsle = df.tile_lon.min()\n",
    "    points[0] = (boundshi,boundsri)\n",
    "    points[1] = (boundslo,boundsri)\n",
    "    points[2] = (boundslo,boundsle)\n",
    "    points[3] = (boundshi,boundsle)\n",
    "    img_shapes[i] = shp.Polygon(points[:])\n",
    "    # plot the outlines of the HiRise images as an example\n",
    "    x,y = img_shapes[i].exterior.xy\n",
    "    plt.plot(x,y);\n",
    "    "
   ]
  },
  {
   "cell_type": "code",
   "execution_count": 28,
   "metadata": {
    "ExecuteTime": {
     "end_time": "2017-07-31T23:53:42.098125Z",
     "start_time": "2017-07-31T23:53:42.044027Z"
    },
    "scrolled": true
   },
   "outputs": [],
   "source": [
    "# create arrays to store info on non-overlapping images\n",
    "misses = np.zeros((len(img_unique),len(img_unique)))\n",
    "ind2drop = np.zeros((len(img_unique)),dtype=int)\n",
    "\n",
    "# loop through images\n",
    "for i in range(len(img_unique)):\n",
    "    # loop through other images to check image [i]\n",
    "    for j in range(len(img_unique)-i-1):\n",
    "        # check if image[i] intersects the current image, if not, add a 1 in 'misses' array \n",
    "        # with index corresponding to the two non-overlapping images\n",
    "        if img_shapes[i].intersects(img_shapes[i+j+1])==False:\n",
    "            misses[i,i+j+1] = 1 \n",
    "\n",
    "# loop through possible cases of non-overlap\n",
    "for n in range(len(img_unique)):\n",
    "    # if all images intersect somewhwere, misses will be only zeros and the loop should be broken\n",
    "    if np.sum(misses)==0:\n",
    "        break\n",
    "    # get indices of flags in 'misses'\n",
    "    miss_inds = np.where(misses!=0)\n",
    "    # get which images were involved, sort by involvement\n",
    "    miss_unique = np.unique(miss_inds,return_counts=True)\n",
    "    # find which image came up the most in 'misses' - this is the one to remove next iteration\n",
    "    miss_max = max(miss_unique[1])\n",
    "    miss_max_ind = np.where(miss_unique[1]==miss_max)[0][0]\n",
    "    # get the index of that image in the collection of polygons 'img_shapes', add one so that \n",
    "    # the index '0' wouldn't get missed\n",
    "    ind2drop[n] = int(miss_unique[0][miss_max_ind]) + 1\n",
    "    # clear 'misses' of any flags corresponding to that image becuase it has been found all ready\n",
    "    misses[:,int(ind2drop[n])-1] = 0\n",
    "    misses[int(ind2drop[n])-1,:] = 0"
   ]
  },
  {
   "cell_type": "code",
   "execution_count": 29,
   "metadata": {
    "ExecuteTime": {
     "end_time": "2017-07-31T23:53:49.214334Z",
     "start_time": "2017-07-31T23:53:49.188572Z"
    },
    "scrolled": true
   },
   "outputs": [],
   "source": [
    "# trim off excess zeroes in 'ind2drop'\n",
    "ind2drop = np.delete(ind2drop,np.where(ind2drop==0.0))\n",
    "\n",
    "# 'safe' is 1 where the index refers to an object to-be-dropped, and 0 otherwise (zeroes are safe objects)\n",
    "safe = np.zeros((len(img_unique)))\n",
    "safe[ind2drop-1] = 1\n",
    "\n",
    "# 'safes' are the indices of all safe objects, the first of which is the starting point for the next loop,\n",
    "# which is necessary to know in cases where the first few images are to-be-dropped\n",
    "safes = np.where(safe==0)\n",
    "start = int(safes[0][0])"
   ]
  },
  {
   "cell_type": "code",
   "execution_count": 30,
   "metadata": {
    "ExecuteTime": {
     "end_time": "2017-07-31T23:53:58.956019Z",
     "start_time": "2017-07-31T23:53:58.747290Z"
    },
    "scrolled": true
   },
   "outputs": [
    {
     "data": {
      "text/plain": [
       "[<matplotlib.lines.Line2D at 0x125f2a780>]"
      ]
     },
     "execution_count": 30,
     "metadata": {},
     "output_type": "execute_result"
    },
    {
     "data": {
      "image/png": "[encoded data removed]",
      "text/plain": [
       "<matplotlib.figure.Figure at 0x125d96198>"
      ]
     },
     "metadata": {},
     "output_type": "display_data"
    }
   ],
   "source": [
    "# loop through images to define area with highest degree of overlap\n",
    "for i in range(len(img_unique)):\n",
    "    # first iteration - intersection of first and second object is the temporary object\n",
    "    if i == 0:\n",
    "        inter_temp = img_shapes[i].intersection(img_shapes[i+1])\n",
    "        # if '0' or '1' is an index-to-drop, temporary object is just the first safe object\n",
    "        if any([z-1==i for z in ind2drop]) or any([z-1==i+1 for z in ind2drop]):\n",
    "            inter_temp = img_shapes[start]\n",
    "        continue\n",
    "    # if this is the last iteration, temporary object is the final object\n",
    "    elif i == (len(img_unique)-1):\n",
    "        inter = inter_temp\n",
    "        break\n",
    "    # if the loop is on an index-to-drop, continue to next iteration, omitting this object\n",
    "    # from the calculation of 'inter'\n",
    "    elif any([z-1==i+1 for z in ind2drop])==True:\n",
    "        continue\n",
    "    # normal action - update temporary object as intersection with the next object in 'img_shapes'\n",
    "    else:\n",
    "        inter_temp = inter_temp.intersection(img_shapes[i+1])\n",
    "\n",
    "# plot the outline of the most overlapped area found in black, should look reasonable on previous plot\n",
    "xi,yi = inter.exterior.xy\n",
    "plt.plot(xi,yi,'k')\n",
    "plt.show()"
   ]
  },
  {
   "cell_type": "code",
   "execution_count": 31,
   "metadata": {
    "ExecuteTime": {
     "end_time": "2017-07-31T23:54:09.564526Z",
     "start_time": "2017-07-31T23:54:09.531418Z"
    },
    "scrolled": true
   },
   "outputs": [],
   "source": [
    "# 'buffer' is a factor that determines how far inside or outside the extents of 'inter' an object's tile's \n",
    "# must be to be considered for calculation. a positive number allows objects outside 'inter' to be considered\n",
    "buffer = 0.0005\n",
    "# define lat/lon corresponding to corners of 'inter'\n",
    "lo_lat = xi[2] * (1. + buffer)\n",
    "hi_lat = xi[0] * (1. - buffer)\n",
    "lo_lon = yi[0] * (1. - buffer)\n",
    "hi_lon = yi[2] * (1. + buffer)\n",
    "\n",
    "# 'overlap_objs' are all the objects whose tile center is within the allowable distance around 'inter'\n",
    "overlap_objs = objects.loc[(objects['tile_lat'] > lo_lat) & (objects['tile_lon'] < hi_lon) & (objects['tile_lat'] < hi_lat) & (objects['tile_lon'] > lo_lon)]\n",
    "overlap_objs = overlap_objs.reset_index(drop=True)\n",
    "ol_img_unique = overlap_objs.name.unique()"
   ]
  },
  {
   "cell_type": "code",
   "execution_count": 38,
   "metadata": {
    "ExecuteTime": {
     "end_time": "2017-08-01T00:01:36.650309Z",
     "start_time": "2017-08-01T00:01:36.627215Z"
    }
   },
   "outputs": [
    {
     "data": {
      "text/plain": [
       "Index(['PlanetocentricLatitude', 'PlanetographicLatitude',\n",
       "       'PositiveEast360Longitude', 'Unnamed: 0', 'angle', 'area', 'binning',\n",
       "       'distance', 'image_id', 'name', 'image_x', 'image_y', 'invalids', 'l_s',\n",
       "       'line_samples', 'lines', 'map_scale', 'min_bl', 'min_fan', 'n_votes',\n",
       "       'north_azimuth', 'obsid', 'path', 'radius_1', 'radius_2', 'real_area',\n",
       "       'season', 'spread', 'tile_lat', 'tile_lon', 'type', 'valid_marking',\n",
       "       'version', 'vote_ratio', 'x', 'x_angle', 'x_hirise', 'x_tile',\n",
       "       'xy_hirise', 'y', 'y_angle', 'y_hirise', 'y_tile'],\n",
       "      dtype='object')"
      ]
     },
     "execution_count": 38,
     "metadata": {},
     "output_type": "execute_result"
    }
   ],
   "source": [
    "overlap_objs.columns"
   ]
  },
  {
   "cell_type": "code",
   "execution_count": 32,
   "metadata": {
    "ExecuteTime": {
     "end_time": "2017-07-31T23:54:11.180424Z",
     "start_time": "2017-07-31T23:54:11.104447Z"
    },
    "scrolled": true
   },
   "outputs": [
    {
     "data": {
      "text/html": [
       "<div>\n",
       "<style>\n",
       "    .dataframe thead tr:only-child th {\n",
       "        text-align: right;\n",
       "    }\n",
       "\n",
       "    .dataframe thead th {\n",
       "        text-align: left;\n",
       "    }\n",
       "\n",
       "    .dataframe tbody tr th {\n",
       "        vertical-align: top;\n",
       "    }\n",
       "</style>\n",
       "<table border=\"1\" class=\"dataframe\">\n",
       "  <thead>\n",
       "    <tr style=\"text-align: right;\">\n",
       "      <th></th>\n",
       "      <th>PlanetocentricLatitude</th>\n",
       "      <th>PlanetographicLatitude</th>\n",
       "      <th>PositiveEast360Longitude</th>\n",
       "      <th>Unnamed: 0</th>\n",
       "      <th>angle</th>\n",
       "      <th>area</th>\n",
       "      <th>binning</th>\n",
       "      <th>distance</th>\n",
       "      <th>image_id</th>\n",
       "      <th>name</th>\n",
       "      <th>image_x</th>\n",
       "      <th>image_y</th>\n",
       "      <th>invalids</th>\n",
       "      <th>l_s</th>\n",
       "      <th>line_samples</th>\n",
       "      <th>lines</th>\n",
       "      <th>map_scale</th>\n",
       "      <th>min_bl</th>\n",
       "      <th>min_fan</th>\n",
       "      <th>n_votes</th>\n",
       "      <th>...</th>\n",
       "      <th>radius_1</th>\n",
       "      <th>radius_2</th>\n",
       "      <th>real_area</th>\n",
       "      <th>season</th>\n",
       "      <th>spread</th>\n",
       "      <th>tile_lat</th>\n",
       "      <th>tile_lon</th>\n",
       "      <th>type</th>\n",
       "      <th>valid_marking</th>\n",
       "      <th>version</th>\n",
       "      <th>vote_ratio</th>\n",
       "      <th>x</th>\n",
       "      <th>x_angle</th>\n",
       "      <th>x_hirise</th>\n",
       "      <th>x_tile</th>\n",
       "      <th>xy_hirise</th>\n",
       "      <th>y</th>\n",
       "      <th>y_angle</th>\n",
       "      <th>y_hirise</th>\n",
       "      <th>y_tile</th>\n",
       "    </tr>\n",
       "  </thead>\n",
       "  <tbody>\n",
       "    <tr>\n",
       "      <th>0</th>\n",
       "      <td>-85.242572</td>\n",
       "      <td>-85.29816</td>\n",
       "      <td>181.455139</td>\n",
       "      <td>89</td>\n",
       "      <td>221.766383</td>\n",
       "      <td>NaN</td>\n",
       "      <td>[-9998, -9998, -9998, -9998, 2, 2, -9998, -999...</td>\n",
       "      <td>104.453064</td>\n",
       "      <td>APF0000aqg</td>\n",
       "      <td>ESP_011350_0945</td>\n",
       "      <td>1518.730000</td>\n",
       "      <td>14489.680000</td>\n",
       "      <td>0.697406</td>\n",
       "      <td>181.205092</td>\n",
       "      <td>8168</td>\n",
       "      <td>37649</td>\n",
       "      <td>0.5</td>\n",
       "      <td>1257.0</td>\n",
       "      <td>21.0</td>\n",
       "      <td>25</td>\n",
       "      <td>...</td>\n",
       "      <td>NaN</td>\n",
       "      <td>NaN</td>\n",
       "      <td>2.326323e+07</td>\n",
       "      <td>season2</td>\n",
       "      <td>65.964552</td>\n",
       "      <td>-85.242572</td>\n",
       "      <td>181.455139</td>\n",
       "      <td>f</td>\n",
       "      <td>True</td>\n",
       "      <td>1.0</td>\n",
       "      <td>0.704444</td>\n",
       "      <td>778.730000</td>\n",
       "      <td>-0.723678</td>\n",
       "      <td>1160.0</td>\n",
       "      <td>2</td>\n",
       "      <td>(1160.0, 14572.0)</td>\n",
       "      <td>241.680000</td>\n",
       "      <td>-0.646279</td>\n",
       "      <td>14572.0</td>\n",
       "      <td>27</td>\n",
       "    </tr>\n",
       "    <tr>\n",
       "      <th>1</th>\n",
       "      <td>-85.242572</td>\n",
       "      <td>-85.29816</td>\n",
       "      <td>181.455139</td>\n",
       "      <td>89</td>\n",
       "      <td>217.804524</td>\n",
       "      <td>NaN</td>\n",
       "      <td>[-9998, -9998, -9998, -9998, 2, 2, -9998, -999...</td>\n",
       "      <td>73.948012</td>\n",
       "      <td>APF0000aqg</td>\n",
       "      <td>ESP_011350_0945</td>\n",
       "      <td>1451.075000</td>\n",
       "      <td>14606.200000</td>\n",
       "      <td>0.697406</td>\n",
       "      <td>181.205092</td>\n",
       "      <td>8168</td>\n",
       "      <td>37649</td>\n",
       "      <td>0.5</td>\n",
       "      <td>1257.0</td>\n",
       "      <td>21.0</td>\n",
       "      <td>30</td>\n",
       "      <td>...</td>\n",
       "      <td>NaN</td>\n",
       "      <td>NaN</td>\n",
       "      <td>2.326323e+07</td>\n",
       "      <td>season2</td>\n",
       "      <td>77.446682</td>\n",
       "      <td>-85.242572</td>\n",
       "      <td>181.455139</td>\n",
       "      <td>f</td>\n",
       "      <td>True</td>\n",
       "      <td>1.0</td>\n",
       "      <td>0.843333</td>\n",
       "      <td>711.075000</td>\n",
       "      <td>-0.758341</td>\n",
       "      <td>1160.0</td>\n",
       "      <td>2</td>\n",
       "      <td>(1160.0, 14572.0)</td>\n",
       "      <td>358.200000</td>\n",
       "      <td>-0.588325</td>\n",
       "      <td>14572.0</td>\n",
       "      <td>27</td>\n",
       "    </tr>\n",
       "    <tr>\n",
       "      <th>2</th>\n",
       "      <td>-85.242572</td>\n",
       "      <td>-85.29816</td>\n",
       "      <td>181.455139</td>\n",
       "      <td>89</td>\n",
       "      <td>237.103717</td>\n",
       "      <td>NaN</td>\n",
       "      <td>[-9998, -9998, -9998, -9998, 2, 2, -9998, -999...</td>\n",
       "      <td>70.717034</td>\n",
       "      <td>APF0000aqg</td>\n",
       "      <td>ESP_011350_0945</td>\n",
       "      <td>1343.481373</td>\n",
       "      <td>14716.176471</td>\n",
       "      <td>0.697406</td>\n",
       "      <td>181.205092</td>\n",
       "      <td>8168</td>\n",
       "      <td>37649</td>\n",
       "      <td>0.5</td>\n",
       "      <td>1257.0</td>\n",
       "      <td>21.0</td>\n",
       "      <td>17</td>\n",
       "      <td>...</td>\n",
       "      <td>NaN</td>\n",
       "      <td>NaN</td>\n",
       "      <td>2.326323e+07</td>\n",
       "      <td>season2</td>\n",
       "      <td>69.659650</td>\n",
       "      <td>-85.242572</td>\n",
       "      <td>181.455139</td>\n",
       "      <td>f</td>\n",
       "      <td>True</td>\n",
       "      <td>1.0</td>\n",
       "      <td>0.663846</td>\n",
       "      <td>603.481373</td>\n",
       "      <td>-0.532440</td>\n",
       "      <td>1160.0</td>\n",
       "      <td>2</td>\n",
       "      <td>(1160.0, 14572.0)</td>\n",
       "      <td>468.176471</td>\n",
       "      <td>-0.823144</td>\n",
       "      <td>14572.0</td>\n",
       "      <td>27</td>\n",
       "    </tr>\n",
       "    <tr>\n",
       "      <th>3</th>\n",
       "      <td>-85.242572</td>\n",
       "      <td>-85.29816</td>\n",
       "      <td>181.455139</td>\n",
       "      <td>89</td>\n",
       "      <td>230.957111</td>\n",
       "      <td>NaN</td>\n",
       "      <td>[-9998, -9998, -9998, -9998, 2, 2, -9998, -999...</td>\n",
       "      <td>56.780333</td>\n",
       "      <td>APF0000aqg</td>\n",
       "      <td>ESP_011350_0945</td>\n",
       "      <td>1290.729825</td>\n",
       "      <td>14741.736842</td>\n",
       "      <td>0.697406</td>\n",
       "      <td>181.205092</td>\n",
       "      <td>8168</td>\n",
       "      <td>37649</td>\n",
       "      <td>0.5</td>\n",
       "      <td>1257.0</td>\n",
       "      <td>21.0</td>\n",
       "      <td>19</td>\n",
       "      <td>...</td>\n",
       "      <td>NaN</td>\n",
       "      <td>NaN</td>\n",
       "      <td>2.326323e+07</td>\n",
       "      <td>season2</td>\n",
       "      <td>81.690641</td>\n",
       "      <td>-85.242572</td>\n",
       "      <td>181.455139</td>\n",
       "      <td>f</td>\n",
       "      <td>True</td>\n",
       "      <td>1.0</td>\n",
       "      <td>0.740769</td>\n",
       "      <td>550.729825</td>\n",
       "      <td>-0.603686</td>\n",
       "      <td>1160.0</td>\n",
       "      <td>2</td>\n",
       "      <td>(1160.0, 14572.0)</td>\n",
       "      <td>493.736842</td>\n",
       "      <td>-0.744350</td>\n",
       "      <td>14572.0</td>\n",
       "      <td>27</td>\n",
       "    </tr>\n",
       "    <tr>\n",
       "      <th>4</th>\n",
       "      <td>-85.242572</td>\n",
       "      <td>-85.29816</td>\n",
       "      <td>181.455139</td>\n",
       "      <td>89</td>\n",
       "      <td>233.332192</td>\n",
       "      <td>NaN</td>\n",
       "      <td>[-9998, -9998, -9998, -9998, 2, 2, -9998, -999...</td>\n",
       "      <td>83.649484</td>\n",
       "      <td>APF0000aqg</td>\n",
       "      <td>ESP_011350_0945</td>\n",
       "      <td>1257.534167</td>\n",
       "      <td>14577.950000</td>\n",
       "      <td>0.697406</td>\n",
       "      <td>181.205092</td>\n",
       "      <td>8168</td>\n",
       "      <td>37649</td>\n",
       "      <td>0.5</td>\n",
       "      <td>1257.0</td>\n",
       "      <td>21.0</td>\n",
       "      <td>20</td>\n",
       "      <td>...</td>\n",
       "      <td>NaN</td>\n",
       "      <td>NaN</td>\n",
       "      <td>2.326323e+07</td>\n",
       "      <td>season2</td>\n",
       "      <td>76.443053</td>\n",
       "      <td>-85.242572</td>\n",
       "      <td>181.455139</td>\n",
       "      <td>f</td>\n",
       "      <td>True</td>\n",
       "      <td>1.0</td>\n",
       "      <td>0.810000</td>\n",
       "      <td>517.534167</td>\n",
       "      <td>-0.588255</td>\n",
       "      <td>1160.0</td>\n",
       "      <td>2</td>\n",
       "      <td>(1160.0, 14572.0)</td>\n",
       "      <td>329.950000</td>\n",
       "      <td>-0.790131</td>\n",
       "      <td>14572.0</td>\n",
       "      <td>27</td>\n",
       "    </tr>\n",
       "    <tr>\n",
       "      <th>5</th>\n",
       "      <td>-85.242572</td>\n",
       "      <td>-85.29816</td>\n",
       "      <td>181.455139</td>\n",
       "      <td>89</td>\n",
       "      <td>228.558918</td>\n",
       "      <td>NaN</td>\n",
       "      <td>[-9998, -9998, -9998, -9998, 2, 2, -9998, -999...</td>\n",
       "      <td>101.004818</td>\n",
       "      <td>APF0000aqg</td>\n",
       "      <td>ESP_011350_0945</td>\n",
       "      <td>1324.638406</td>\n",
       "      <td>14562.913043</td>\n",
       "      <td>0.697406</td>\n",
       "      <td>181.205092</td>\n",
       "      <td>8168</td>\n",
       "      <td>37649</td>\n",
       "      <td>0.5</td>\n",
       "      <td>1257.0</td>\n",
       "      <td>21.0</td>\n",
       "      <td>23</td>\n",
       "      <td>...</td>\n",
       "      <td>NaN</td>\n",
       "      <td>NaN</td>\n",
       "      <td>2.326323e+07</td>\n",
       "      <td>season2</td>\n",
       "      <td>64.827397</td>\n",
       "      <td>-85.242572</td>\n",
       "      <td>181.455139</td>\n",
       "      <td>f</td>\n",
       "      <td>True</td>\n",
       "      <td>1.0</td>\n",
       "      <td>0.615263</td>\n",
       "      <td>584.638406</td>\n",
       "      <td>-0.649357</td>\n",
       "      <td>1160.0</td>\n",
       "      <td>2</td>\n",
       "      <td>(1160.0, 14572.0)</td>\n",
       "      <td>314.913043</td>\n",
       "      <td>-0.735487</td>\n",
       "      <td>14572.0</td>\n",
       "      <td>27</td>\n",
       "    </tr>\n",
       "    <tr>\n",
       "      <th>6</th>\n",
       "      <td>-85.242572</td>\n",
       "      <td>-85.29816</td>\n",
       "      <td>181.455139</td>\n",
       "      <td>89</td>\n",
       "      <td>214.004559</td>\n",
       "      <td>NaN</td>\n",
       "      <td>[-9998, -9998, -9998, -9998, 2, 2, -9998, -999...</td>\n",
       "      <td>92.414725</td>\n",
       "      <td>APF0000aqg</td>\n",
       "      <td>ESP_011350_0945</td>\n",
       "      <td>1218.509259</td>\n",
       "      <td>14326.370370</td>\n",
       "      <td>0.697406</td>\n",
       "      <td>181.205092</td>\n",
       "      <td>8168</td>\n",
       "      <td>37649</td>\n",
       "      <td>0.5</td>\n",
       "      <td>1257.0</td>\n",
       "      <td>21.0</td>\n",
       "      <td>27</td>\n",
       "      <td>...</td>\n",
       "      <td>NaN</td>\n",
       "      <td>NaN</td>\n",
       "      <td>2.326323e+07</td>\n",
       "      <td>season2</td>\n",
       "      <td>74.488126</td>\n",
       "      <td>-85.242572</td>\n",
       "      <td>181.455139</td>\n",
       "      <td>f</td>\n",
       "      <td>True</td>\n",
       "      <td>1.0</td>\n",
       "      <td>0.804118</td>\n",
       "      <td>478.509259</td>\n",
       "      <td>-0.788176</td>\n",
       "      <td>1160.0</td>\n",
       "      <td>2</td>\n",
       "      <td>(1160.0, 14572.0)</td>\n",
       "      <td>78.370370</td>\n",
       "      <td>-0.531722</td>\n",
       "      <td>14572.0</td>\n",
       "      <td>27</td>\n",
       "    </tr>\n",
       "    <tr>\n",
       "      <th>7</th>\n",
       "      <td>-85.242572</td>\n",
       "      <td>-85.29816</td>\n",
       "      <td>181.455139</td>\n",
       "      <td>89</td>\n",
       "      <td>214.004559</td>\n",
       "      <td>NaN</td>\n",
       "      <td>[-9998, -9998, -9998, -9998, 2, 2, -9998, -999...</td>\n",
       "      <td>92.414725</td>\n",
       "      <td>APF0000aqg</td>\n",
       "      <td>ESP_011350_0945</td>\n",
       "      <td>1218.509259</td>\n",
       "      <td>14326.370370</td>\n",
       "      <td>0.697406</td>\n",
       "      <td>181.205092</td>\n",
       "      <td>8168</td>\n",
       "      <td>37649</td>\n",
       "      <td>0.5</td>\n",
       "      <td>1257.0</td>\n",
       "      <td>21.0</td>\n",
       "      <td>27</td>\n",
       "      <td>...</td>\n",
       "      <td>NaN</td>\n",
       "      <td>NaN</td>\n",
       "      <td>2.326323e+07</td>\n",
       "      <td>season2</td>\n",
       "      <td>74.488126</td>\n",
       "      <td>-85.242572</td>\n",
       "      <td>181.455139</td>\n",
       "      <td>f</td>\n",
       "      <td>True</td>\n",
       "      <td>1.0</td>\n",
       "      <td>0.828182</td>\n",
       "      <td>478.509259</td>\n",
       "      <td>-0.788176</td>\n",
       "      <td>1160.0</td>\n",
       "      <td>2</td>\n",
       "      <td>(1160.0, 14572.0)</td>\n",
       "      <td>78.370370</td>\n",
       "      <td>-0.531722</td>\n",
       "      <td>14572.0</td>\n",
       "      <td>27</td>\n",
       "    </tr>\n",
       "    <tr>\n",
       "      <th>8</th>\n",
       "      <td>-85.242572</td>\n",
       "      <td>-85.29816</td>\n",
       "      <td>181.455139</td>\n",
       "      <td>89</td>\n",
       "      <td>225.499171</td>\n",
       "      <td>NaN</td>\n",
       "      <td>[-9998, -9998, -9998, -9998, 2, 2, -9998, -999...</td>\n",
       "      <td>67.072037</td>\n",
       "      <td>APF0000aqg</td>\n",
       "      <td>ESP_011350_0945</td>\n",
       "      <td>1024.168116</td>\n",
       "      <td>14375.130435</td>\n",
       "      <td>0.697406</td>\n",
       "      <td>181.205092</td>\n",
       "      <td>8168</td>\n",
       "      <td>37649</td>\n",
       "      <td>0.5</td>\n",
       "      <td>1257.0</td>\n",
       "      <td>21.0</td>\n",
       "      <td>23</td>\n",
       "      <td>...</td>\n",
       "      <td>NaN</td>\n",
       "      <td>NaN</td>\n",
       "      <td>2.326323e+07</td>\n",
       "      <td>season2</td>\n",
       "      <td>81.702033</td>\n",
       "      <td>-85.242572</td>\n",
       "      <td>181.455139</td>\n",
       "      <td>f</td>\n",
       "      <td>True</td>\n",
       "      <td>1.0</td>\n",
       "      <td>0.667143</td>\n",
       "      <td>284.168116</td>\n",
       "      <td>-0.669062</td>\n",
       "      <td>1160.0</td>\n",
       "      <td>2</td>\n",
       "      <td>(1160.0, 14572.0)</td>\n",
       "      <td>127.130435</td>\n",
       "      <td>-0.680822</td>\n",
       "      <td>14572.0</td>\n",
       "      <td>27</td>\n",
       "    </tr>\n",
       "    <tr>\n",
       "      <th>9</th>\n",
       "      <td>-85.242572</td>\n",
       "      <td>-85.29816</td>\n",
       "      <td>181.455139</td>\n",
       "      <td>89</td>\n",
       "      <td>217.619338</td>\n",
       "      <td>NaN</td>\n",
       "      <td>[-9998, -9998, -9998, -9998, 2, 2, -9998, -999...</td>\n",
       "      <td>73.217755</td>\n",
       "      <td>APF0000aqg</td>\n",
       "      <td>ESP_011350_0945</td>\n",
       "      <td>1557.055556</td>\n",
       "      <td>14307.888889</td>\n",
       "      <td>0.697406</td>\n",
       "      <td>181.205092</td>\n",
       "      <td>8168</td>\n",
       "      <td>37649</td>\n",
       "      <td>0.5</td>\n",
       "      <td>1257.0</td>\n",
       "      <td>21.0</td>\n",
       "      <td>9</td>\n",
       "      <td>...</td>\n",
       "      <td>NaN</td>\n",
       "      <td>NaN</td>\n",
       "      <td>2.326323e+07</td>\n",
       "      <td>season2</td>\n",
       "      <td>77.536277</td>\n",
       "      <td>-85.242572</td>\n",
       "      <td>181.455139</td>\n",
       "      <td>f</td>\n",
       "      <td>True</td>\n",
       "      <td>1.0</td>\n",
       "      <td>NaN</td>\n",
       "      <td>817.055556</td>\n",
       "      <td>-0.775578</td>\n",
       "      <td>1160.0</td>\n",
       "      <td>2</td>\n",
       "      <td>(1160.0, 14572.0)</td>\n",
       "      <td>59.888889</td>\n",
       "      <td>-0.597693</td>\n",
       "      <td>14572.0</td>\n",
       "      <td>27</td>\n",
       "    </tr>\n",
       "  </tbody>\n",
       "</table>\n",
       "<p>10 rows × 43 columns</p>\n",
       "</div>"
      ],
      "text/plain": [
       "   PlanetocentricLatitude  PlanetographicLatitude  PositiveEast360Longitude  \\\n",
       "0              -85.242572               -85.29816                181.455139   \n",
       "1              -85.242572               -85.29816                181.455139   \n",
       "2              -85.242572               -85.29816                181.455139   \n",
       "3              -85.242572               -85.29816                181.455139   \n",
       "4              -85.242572               -85.29816                181.455139   \n",
       "5              -85.242572               -85.29816                181.455139   \n",
       "6              -85.242572               -85.29816                181.455139   \n",
       "7              -85.242572               -85.29816                181.455139   \n",
       "8              -85.242572               -85.29816                181.455139   \n",
       "9              -85.242572               -85.29816                181.455139   \n",
       "\n",
       "   Unnamed: 0       angle  area  \\\n",
       "0          89  221.766383   NaN   \n",
       "1          89  217.804524   NaN   \n",
       "2          89  237.103717   NaN   \n",
       "3          89  230.957111   NaN   \n",
       "4          89  233.332192   NaN   \n",
       "5          89  228.558918   NaN   \n",
       "6          89  214.004559   NaN   \n",
       "7          89  214.004559   NaN   \n",
       "8          89  225.499171   NaN   \n",
       "9          89  217.619338   NaN   \n",
       "\n",
       "                                             binning    distance    image_id  \\\n",
       "0  [-9998, -9998, -9998, -9998, 2, 2, -9998, -999...  104.453064  APF0000aqg   \n",
       "1  [-9998, -9998, -9998, -9998, 2, 2, -9998, -999...   73.948012  APF0000aqg   \n",
       "2  [-9998, -9998, -9998, -9998, 2, 2, -9998, -999...   70.717034  APF0000aqg   \n",
       "3  [-9998, -9998, -9998, -9998, 2, 2, -9998, -999...   56.780333  APF0000aqg   \n",
       "4  [-9998, -9998, -9998, -9998, 2, 2, -9998, -999...   83.649484  APF0000aqg   \n",
       "5  [-9998, -9998, -9998, -9998, 2, 2, -9998, -999...  101.004818  APF0000aqg   \n",
       "6  [-9998, -9998, -9998, -9998, 2, 2, -9998, -999...   92.414725  APF0000aqg   \n",
       "7  [-9998, -9998, -9998, -9998, 2, 2, -9998, -999...   92.414725  APF0000aqg   \n",
       "8  [-9998, -9998, -9998, -9998, 2, 2, -9998, -999...   67.072037  APF0000aqg   \n",
       "9  [-9998, -9998, -9998, -9998, 2, 2, -9998, -999...   73.217755  APF0000aqg   \n",
       "\n",
       "              name      image_x       image_y  invalids         l_s  \\\n",
       "0  ESP_011350_0945  1518.730000  14489.680000  0.697406  181.205092   \n",
       "1  ESP_011350_0945  1451.075000  14606.200000  0.697406  181.205092   \n",
       "2  ESP_011350_0945  1343.481373  14716.176471  0.697406  181.205092   \n",
       "3  ESP_011350_0945  1290.729825  14741.736842  0.697406  181.205092   \n",
       "4  ESP_011350_0945  1257.534167  14577.950000  0.697406  181.205092   \n",
       "5  ESP_011350_0945  1324.638406  14562.913043  0.697406  181.205092   \n",
       "6  ESP_011350_0945  1218.509259  14326.370370  0.697406  181.205092   \n",
       "7  ESP_011350_0945  1218.509259  14326.370370  0.697406  181.205092   \n",
       "8  ESP_011350_0945  1024.168116  14375.130435  0.697406  181.205092   \n",
       "9  ESP_011350_0945  1557.055556  14307.888889  0.697406  181.205092   \n",
       "\n",
       "   line_samples  lines  map_scale  min_bl  min_fan  n_votes   ...    radius_1  \\\n",
       "0          8168  37649        0.5  1257.0     21.0       25   ...         NaN   \n",
       "1          8168  37649        0.5  1257.0     21.0       30   ...         NaN   \n",
       "2          8168  37649        0.5  1257.0     21.0       17   ...         NaN   \n",
       "3          8168  37649        0.5  1257.0     21.0       19   ...         NaN   \n",
       "4          8168  37649        0.5  1257.0     21.0       20   ...         NaN   \n",
       "5          8168  37649        0.5  1257.0     21.0       23   ...         NaN   \n",
       "6          8168  37649        0.5  1257.0     21.0       27   ...         NaN   \n",
       "7          8168  37649        0.5  1257.0     21.0       27   ...         NaN   \n",
       "8          8168  37649        0.5  1257.0     21.0       23   ...         NaN   \n",
       "9          8168  37649        0.5  1257.0     21.0        9   ...         NaN   \n",
       "\n",
       "  radius_2     real_area   season     spread   tile_lat    tile_lon  type  \\\n",
       "0      NaN  2.326323e+07  season2  65.964552 -85.242572  181.455139     f   \n",
       "1      NaN  2.326323e+07  season2  77.446682 -85.242572  181.455139     f   \n",
       "2      NaN  2.326323e+07  season2  69.659650 -85.242572  181.455139     f   \n",
       "3      NaN  2.326323e+07  season2  81.690641 -85.242572  181.455139     f   \n",
       "4      NaN  2.326323e+07  season2  76.443053 -85.242572  181.455139     f   \n",
       "5      NaN  2.326323e+07  season2  64.827397 -85.242572  181.455139     f   \n",
       "6      NaN  2.326323e+07  season2  74.488126 -85.242572  181.455139     f   \n",
       "7      NaN  2.326323e+07  season2  74.488126 -85.242572  181.455139     f   \n",
       "8      NaN  2.326323e+07  season2  81.702033 -85.242572  181.455139     f   \n",
       "9      NaN  2.326323e+07  season2  77.536277 -85.242572  181.455139     f   \n",
       "\n",
       "   valid_marking  version vote_ratio           x   x_angle  x_hirise  x_tile  \\\n",
       "0           True      1.0   0.704444  778.730000 -0.723678    1160.0       2   \n",
       "1           True      1.0   0.843333  711.075000 -0.758341    1160.0       2   \n",
       "2           True      1.0   0.663846  603.481373 -0.532440    1160.0       2   \n",
       "3           True      1.0   0.740769  550.729825 -0.603686    1160.0       2   \n",
       "4           True      1.0   0.810000  517.534167 -0.588255    1160.0       2   \n",
       "5           True      1.0   0.615263  584.638406 -0.649357    1160.0       2   \n",
       "6           True      1.0   0.804118  478.509259 -0.788176    1160.0       2   \n",
       "7           True      1.0   0.828182  478.509259 -0.788176    1160.0       2   \n",
       "8           True      1.0   0.667143  284.168116 -0.669062    1160.0       2   \n",
       "9           True      1.0        NaN  817.055556 -0.775578    1160.0       2   \n",
       "\n",
       "           xy_hirise           y   y_angle y_hirise  y_tile  \n",
       "0  (1160.0, 14572.0)  241.680000 -0.646279  14572.0      27  \n",
       "1  (1160.0, 14572.0)  358.200000 -0.588325  14572.0      27  \n",
       "2  (1160.0, 14572.0)  468.176471 -0.823144  14572.0      27  \n",
       "3  (1160.0, 14572.0)  493.736842 -0.744350  14572.0      27  \n",
       "4  (1160.0, 14572.0)  329.950000 -0.790131  14572.0      27  \n",
       "5  (1160.0, 14572.0)  314.913043 -0.735487  14572.0      27  \n",
       "6  (1160.0, 14572.0)   78.370370 -0.531722  14572.0      27  \n",
       "7  (1160.0, 14572.0)   78.370370 -0.531722  14572.0      27  \n",
       "8  (1160.0, 14572.0)  127.130435 -0.680822  14572.0      27  \n",
       "9  (1160.0, 14572.0)   59.888889 -0.597693  14572.0      27  \n",
       "\n",
       "[10 rows x 43 columns]"
      ]
     },
     "execution_count": 32,
     "metadata": {},
     "output_type": "execute_result"
    }
   ],
   "source": [
    "# create arrays to be filled\n",
    "n_ol_img = len(ol_img_unique)\n",
    "n_marks = np.zeros((n_ol_img,3))\n",
    "n_objs = overlap_objs.name.value_counts()[0]\n",
    "img_fans = np.zeros((n_ol_img,n_objs))\n",
    "img_blotches = np.zeros((n_ol_img,n_objs))\n",
    "f_histmax = np.zeros((n_ol_img))\n",
    "b_histmax = np.zeros((n_ol_img))\n",
    "collection = [None] * len(overlap_objs)\n",
    "points = [None] * 14\n",
    "areas = np.zeros(len(overlap_objs))\n",
    "img_areas = np.zeros(len(ol_img_unique))\n",
    "tile_log = []\n",
    "\n",
    "overlap_objs.head(10)"
   ]
  },
  {
   "cell_type": "code",
   "execution_count": 67,
   "metadata": {
    "ExecuteTime": {
     "end_time": "2017-08-01T00:36:10.909339Z",
     "start_time": "2017-08-01T00:36:10.884265Z"
    }
   },
   "outputs": [
    {
     "data": {
      "text/plain": [
       "ESP_021491_0950    821\n",
       "ESP_020146_0950    625\n",
       "ESP_020568_0950    606\n",
       "ESP_012643_0945    433\n",
       "ESP_020779_0950    383\n",
       "ESP_012063_0945    376\n",
       "ESP_012076_0945    363\n",
       "ESP_012858_0855    258\n",
       "ESP_011350_0945    252\n",
       "ESP_011931_0945    193\n",
       "ESP_020476_0950    190\n",
       "ESP_020357_0950    187\n",
       "ESP_011404_0945    143\n",
       "ESP_011403_0945     84\n",
       "ESP_011351_0945     82\n",
       "ESP_012854_0945     46\n",
       "Name: name, dtype: int64"
      ]
     },
     "execution_count": 67,
     "metadata": {},
     "output_type": "execute_result"
    }
   ],
   "source": [
    "overlap_objs.name.value_counts()"
   ]
  },
  {
   "cell_type": "code",
   "execution_count": 33,
   "metadata": {
    "ExecuteTime": {
     "end_time": "2017-07-31T23:56:13.011250Z",
     "start_time": "2017-07-31T23:56:08.719480Z"
    }
   },
   "outputs": [],
   "source": [
    "for k in range(len(overlap_objs)):\n",
    "    if overlap_objs.type[k]=='f':\n",
    "        r = overlap_objs.distance[k]*np.tan((overlap_objs.spread[k]/2.)*np.pi/180.)\n",
    "        red_ax = overlap_objs.distance[k] - r\n",
    "        points[0] = (overlap_objs.x[k],overlap_objs.y[k])\n",
    "        points[1] = (overlap_objs.x[k] + r,overlap_objs.y[k] + red_ax)\n",
    "        points[2] = (overlap_objs.x[k] + r*np.cos(15.*np.pi/180.),overlap_objs.y[k] + r*np.sin(15.*np.pi/180.) + red_ax)\n",
    "        points[3] = (overlap_objs.x[k] + r*np.cos(30.*np.pi/180.),overlap_objs.y[k] + r*np.sin(30.*np.pi/180.) + red_ax)\n",
    "        points[4] = (overlap_objs.x[k] + r*np.cos(45.*np.pi/180.),overlap_objs.y[k] + r*np.sin(45.*np.pi/180.) + red_ax)\n",
    "        points[5] = (overlap_objs.x[k] + r*np.cos(60.*np.pi/180.),overlap_objs.y[k] + r*np.sin(60.*np.pi/180.) + red_ax)\n",
    "        points[6] = (overlap_objs.x[k] + r*np.cos(75.*np.pi/180.),overlap_objs.y[k] + r*np.sin(75.*np.pi/180.) + red_ax)\n",
    "        points[7] = (overlap_objs.x[k] + r*np.cos(90.*np.pi/180.),overlap_objs.y[k] + r*np.sin(90.*np.pi/180.) + red_ax)\n",
    "        points[8] = (overlap_objs.x[k] + r*np.cos(105.*np.pi/180.),overlap_objs.y[k] + r*np.sin(105.*np.pi/180.) + red_ax)\n",
    "        points[9] = (overlap_objs.x[k] + r*np.cos(120.*np.pi/180.),overlap_objs.y[k] + r*np.sin(120.*np.pi/180.) + red_ax)\n",
    "        points[10] = (overlap_objs.x[k] + r*np.cos(135.*np.pi/180.),overlap_objs.y[k] + r*np.sin(135.*np.pi/180.) + red_ax)\n",
    "        points[11] = (overlap_objs.x[k] + r*np.cos(150.*np.pi/180.),overlap_objs.y[k] + r*np.sin(150.*np.pi/180.) + red_ax)\n",
    "        points[12] = (overlap_objs.x[k] + r*np.cos(165.*np.pi/180.),overlap_objs.y[k] + r*np.sin(165.*np.pi/180.) + red_ax)\n",
    "        points[13] = (overlap_objs.x[k] + r*np.cos(180.*np.pi/180.),overlap_objs.y[k] + r*np.sin(180.*np.pi/180.) + red_ax)\n",
    "        collection[k] = shp.Polygon(points[:])\n",
    "        collection[k] = affinity.rotate(collection[k],angle=overlap_objs.angle[k] - 90.,origin=points[0])\n",
    "        areas[k] = collection[k].area\n",
    "    else:\n",
    "        circle = shp.point.Point(overlap_objs.x[k],overlap_objs.y[k]).buffer(1)\n",
    "        collection[k] = affinity.scale(circle,overlap_objs.radius_1[k],overlap_objs.radius_2[k])\n",
    "        collection[k] = affinity.rotate(collection[k],angle=overlap_objs.angle[k])\n",
    "        areas[k] = collection[k].area"
   ]
  },
  {
   "cell_type": "code",
   "execution_count": null,
   "metadata": {
    "ExecuteTime": {
     "end_time": "2017-07-31T23:58:44.798668Z",
     "start_time": "2017-07-31T23:58:44.769806Z"
    }
   },
   "outputs": [],
   "source": [
    "i = 0\n",
    "overlap_objs.image_id[(overlap_objs.name==ol_img_unique[i])]"
   ]
  },
  {
   "cell_type": "code",
   "execution_count": 40,
   "metadata": {
    "ExecuteTime": {
     "end_time": "2017-08-01T00:03:24.372052Z",
     "start_time": "2017-08-01T00:03:24.344122Z"
    }
   },
   "outputs": [
    {
     "data": {
      "text/plain": [
       "array(['ESP_011350_0945', 'ESP_011351_0945', 'ESP_011403_0945'], dtype=object)"
      ]
     },
     "execution_count": 40,
     "metadata": {},
     "output_type": "execute_result"
    }
   ],
   "source": [
    "ol_img_unique[:3]"
   ]
  },
  {
   "cell_type": "code",
   "execution_count": 36,
   "metadata": {
    "ExecuteTime": {
     "end_time": "2017-07-31T23:57:45.143576Z",
     "start_time": "2017-07-31T23:57:44.955319Z"
    },
    "scrolled": true
   },
   "outputs": [
    {
     "ename": "IndexError",
     "evalue": "list assignment index out of range",
     "output_type": "error",
     "traceback": [
      "\u001b[0;31m---------------------------------------------------------------------------\u001b[0m",
      "\u001b[0;31mIndexError\u001b[0m                                Traceback (most recent call last)",
      "\u001b[0;32m<ipython-input-36-47728420e907>\u001b[0m in \u001b[0;36m<module>\u001b[0;34m()\u001b[0m\n\u001b[1;32m      6\u001b[0m     \u001b[0mblotches_tiles\u001b[0m \u001b[0;34m=\u001b[0m \u001b[0moverlap_objs\u001b[0m\u001b[0;34m.\u001b[0m\u001b[0mtile_lat\u001b[0m\u001b[0;34m[\u001b[0m\u001b[0;34m(\u001b[0m\u001b[0moverlap_objs\u001b[0m\u001b[0;34m.\u001b[0m\u001b[0mname\u001b[0m\u001b[0;34m==\u001b[0m\u001b[0mol_img_unique\u001b[0m\u001b[0;34m[\u001b[0m\u001b[0mi\u001b[0m\u001b[0;34m]\u001b[0m\u001b[0;34m)\u001b[0m \u001b[0;34m&\u001b[0m \u001b[0;34m(\u001b[0m\u001b[0moverlap_objs\u001b[0m\u001b[0;34m.\u001b[0m\u001b[0mtype\u001b[0m\u001b[0;34m==\u001b[0m\u001b[0;34m'b'\u001b[0m\u001b[0;34m)\u001b[0m\u001b[0;34m]\u001b[0m\u001b[0;34m\u001b[0m\u001b[0m\n\u001b[1;32m      7\u001b[0m     \u001b[0m_tiles\u001b[0m \u001b[0;34m=\u001b[0m \u001b[0moverlap_objs\u001b[0m\u001b[0;34m.\u001b[0m\u001b[0mtile_lat\u001b[0m\u001b[0;34m[\u001b[0m\u001b[0;34m(\u001b[0m\u001b[0moverlap_objs\u001b[0m\u001b[0;34m.\u001b[0m\u001b[0mname\u001b[0m\u001b[0;34m==\u001b[0m\u001b[0mol_img_unique\u001b[0m\u001b[0;34m[\u001b[0m\u001b[0mi\u001b[0m\u001b[0;34m]\u001b[0m\u001b[0;34m)\u001b[0m\u001b[0;34m]\u001b[0m\u001b[0;34m\u001b[0m\u001b[0m\n\u001b[0;32m----> 8\u001b[0;31m     \u001b[0mtile_log\u001b[0m\u001b[0;34m[\u001b[0m\u001b[0mi\u001b[0m\u001b[0;34m]\u001b[0m \u001b[0;34m=\u001b[0m \u001b[0moverlap_objs\u001b[0m\u001b[0;34m.\u001b[0m\u001b[0mimage_id\u001b[0m\u001b[0;34m[\u001b[0m\u001b[0;34m(\u001b[0m\u001b[0moverlap_objs\u001b[0m\u001b[0;34m.\u001b[0m\u001b[0mname\u001b[0m\u001b[0;34m==\u001b[0m\u001b[0mol_img_unique\u001b[0m\u001b[0;34m[\u001b[0m\u001b[0mi\u001b[0m\u001b[0;34m]\u001b[0m\u001b[0;34m)\u001b[0m\u001b[0;34m]\u001b[0m\u001b[0;34m\u001b[0m\u001b[0m\n\u001b[0m\u001b[1;32m      9\u001b[0m \u001b[0;34m\u001b[0m\u001b[0m\n\u001b[1;32m     10\u001b[0m     \u001b[0;31m# for each image, record l_s and the number of fans & blotches divided by the number of tiles considered\u001b[0m\u001b[0;34m\u001b[0m\u001b[0;34m\u001b[0m\u001b[0m\n",
      "\u001b[0;31mIndexError\u001b[0m: list assignment index out of range"
     ]
    }
   ],
   "source": [
    "for i in range(n_ol_img):\n",
    "    # get set of fans & blotches for each image, and get list of tiles in which these are contained\n",
    "    fans_ = overlap_objs.name[(overlap_objs.type=='f') & (overlap_objs.name==ol_img_unique[i])]\n",
    "    blotches_ = overlap_objs.name[(overlap_objs.type=='b') & (overlap_objs.name==ol_img_unique[i])]\n",
    "    fans_tiles = overlap_objs.tile_lat[(overlap_objs.name==ol_img_unique[i]) & (overlap_objs.type=='f')]\n",
    "    blotches_tiles = overlap_objs.tile_lat[(overlap_objs.name==ol_img_unique[i]) & (overlap_objs.type=='b')]\n",
    "    _tiles = overlap_objs.tile_lat[(overlap_objs.name==ol_img_unique[i])]\n",
    "    tile_log.append(overlap_objs.image_id[(overlap_objs.name==ol_img_unique[i])])\n",
    "    \n",
    "    # for each image, record l_s and the number of fans & blotches divided by the number of tiles considered\n",
    "    if len(fans_) > 0 and len(blotches_) > 0:\n",
    "        n_marks[i,0] = meta.l_s[meta.obsid==ol_img_unique[i]]\n",
    "        n_marks[i,1] = len(fans_)/len(fans_tiles.value_counts())\n",
    "        n_marks[i,2] = len(blotches_)/len(blotches_tiles.value_counts())\n",
    "    elif len(fans_) == 0:\n",
    "        n_marks[i,0] = meta.l_s[meta.obsid==ol_img_unique[i]]\n",
    "        n_marks[i,1] = np.nan\n",
    "        n_marks[i,2] = len(blotches_)/len(blotches_tiles.value_counts())\n",
    "    elif len(blotches_) == 0:\n",
    "        n_marks[i,0] = meta.l_s[meta.obsid==ol_img_unique[i]]\n",
    "        n_marks[i,1] = len(fans_)/len(fans_tiles.value_counts())\n",
    "        n_marks[i,2] = np.nan\n",
    "    \n",
    "    # get lengths and binnings of fans & blotches for each image, multiply these, fill length array (for fans)\n",
    "    # and area array (for blotches) with result\n",
    "    fan_lengths = overlap_objs.long[(overlap_objs.name==ol_img_unique[i]) & (overlap_objs.type=='f')]\n",
    "    fan_binning = overlap_objs.binning[(overlap_objs.name==ol_img_unique[i]) & (overlap_objs.type=='f')]\n",
    "    img_fans[i,:len(fans_)] = fan_lengths * float(meta.map_scale[meta.obsid==ol_img_unique[i]])\n",
    "    #img_fans[i,:len(fans_)] = fan_lengths\n",
    "    blotch_len1 = overlap_objs.long[(overlap_objs.name==ol_img_unique[i]) & (overlap_objs.type=='b')]\n",
    "    blotch_len2 = overlap_objs.short[(overlap_objs.name==ol_img_unique[i]) & (overlap_objs.type=='b')]\n",
    "    blotch_binning = overlap_objs.binning[(overlap_objs.name==ol_img_unique[i]) & (overlap_objs.type=='b')]\n",
    "    img_blotches[i,:len(blotches_)] = blotch_len1 * blotch_len2 * np.pi * float(meta.map_scale[meta.obsid==ol_img_unique[i]])\n",
    "    #img_blotches[i,:len(blotches_)] = blotch_len1 * blotch_len2 * np.pi\n",
    "    \n",
    "    # create a histogram of fans' & blotches' size distribution for each image,\n",
    "    # find max of each histogram, record in 'histmax'\n",
    "    f_hist,f_binedges = np.histogram(img_fans[i,np.where(img_fans[i,:]>0.0)],bins=50)\n",
    "    f_histmax[i] = f_binedges[np.where(f_hist==f_hist.max())[0][0]]\n",
    "    b_hist,b_binedges = np.histogram(img_blotches[i,np.where(img_blotches[i,:]>0.0)],bins=50)\n",
    "    b_histmax[i] = b_binedges[np.where(b_hist==b_hist.max())[0][0]]\n",
    "    # replace zeroes with NaN's\n",
    "    if f_histmax[i]==0:\n",
    "        f_histmax[i] = np.nan\n",
    "    if b_histmax[i]==0:\n",
    "        b_histmax[i] = np.nan\n",
    "    if i==0:\n",
    "        ind = len(np.where(overlap_objs.name==ol_img_unique[i])[0])\n",
    "        img_areas[i] = unary_union(collection[:ind]).area / len(_tiles.value_counts())\n",
    "    else:\n",
    "        ind_minus = ind\n",
    "        ind = ind_minus + len(np.where(overlap_objs.name==ol_img_unique[i])[0])\n",
    "        img_areas[i] = unary_union(collection[ind_minus:ind]).area / len(_tiles.value_counts())    \n"
   ]
  },
  {
   "cell_type": "code",
   "execution_count": 69,
   "metadata": {
    "ExecuteTime": {
     "end_time": "2017-08-01T00:38:40.815380Z",
     "start_time": "2017-08-01T00:38:38.935046Z"
    },
    "scrolled": true
   },
   "outputs": [],
   "source": [
    "for i,img_name in enumerate(ol_img_unique):\n",
    "    df = overlap_objs.query('name==@img_name')\n",
    "    map_scale = meta.query('obsid==@img_name').map_scale.values[0]\n",
    "    # get set of fans & blotches for each image, and get list of tiles in which these are contained\n",
    "    fans_ = df.query('type==\"f\"')\n",
    "    blotches_ = df.query('type==\"b\"')\n",
    "    tile_log.append(df.image_id.unique())\n",
    "    \n",
    "    current_Ls = df.l_s.values[0]\n",
    "#     # for each image, record l_s and the number of fans & blotches divided by the number of tiles considered\n",
    "    if len(fans_) > 0 and len(blotches_) > 0:\n",
    "        n_marks[i,0] = current_Ls\n",
    "        try:\n",
    "            n_marks[i,1] = len(fans_)/ fans_.image_id.nunique()\n",
    "        except ZeroDivisionError:\n",
    "            n_marks[i,1] = np.nan\n",
    "        try:\n",
    "            n_marks[i,2] = len(blotches_)/blotches_.image_id.nunique()\n",
    "        except ZeroDivisionError:\n",
    "            n_marks[i,2] = np.nan\n",
    "    \n",
    "    # get lengths and binnings of fans & blotches for each image, multiply these, fill length array (for fans)\n",
    "    # and area array (for blotches) with result\n",
    "    fan_lengths = fans_.distance\n",
    "    img_fans[i,:len(fans_)] = fan_lengths * map_scale\n",
    "    blotch_len1 = blotches_.radius_1\n",
    "    blotch_len2 = blotches_.radius_2\n",
    "    img_blotches[i,:len(blotches_)] = blotch_len1 * blotch_len2 * np.pi * map_scale\n",
    "    \n",
    "    # create a histogram of fans' & blotches' size distribution for each image,\n",
    "    # find max of each histogram, record in 'histmax'\n",
    "    f_hist,f_binedges = np.histogram(img_fans[i,np.where(img_fans[i,:]>0.0)],bins=50)\n",
    "    f_histmax[i] = f_binedges[np.where(f_hist==f_hist.max())[0][0]]\n",
    "    b_hist,b_binedges = np.histogram(img_blotches[i,np.where(img_blotches[i,:]>0.0)],bins=50)\n",
    "    b_histmax[i] = b_binedges[np.where(b_hist==b_hist.max())[0][0]]\n",
    "    # replace zeroes with NaN's\n",
    "    if f_histmax[i]==0:\n",
    "        f_histmax[i] = np.nan\n",
    "    if b_histmax[i]==0:\n",
    "        b_histmax[i] = np.nan\n",
    "    if i==0:\n",
    "        ind = len(df)\n",
    "        img_areas[i] = unary_union(collection[:ind]).area / df.image_id.nunique()\n",
    "    else:\n",
    "        ind_minus = ind\n",
    "        ind = ind_minus + len(np.where(overlap_objs.name==ol_img_unique[i])[0])\n",
    "        img_areas[i] = unary_union(collection[ind_minus:ind]).area / df.image_id.nunique()\n"
   ]
  },
  {
   "cell_type": "code",
   "execution_count": 71,
   "metadata": {
    "ExecuteTime": {
     "end_time": "2017-08-01T00:39:32.775871Z",
     "start_time": "2017-08-01T00:39:32.621602Z"
    },
    "scrolled": false
   },
   "outputs": [
    {
     "ename": "TypeError",
     "evalue": "Mismatch between array dtype ('object') and format specifier ('%.18e')",
     "output_type": "error",
     "traceback": [
      "\u001b[0;31m---------------------------------------------------------------------------\u001b[0m",
      "\u001b[0;31mTypeError\u001b[0m                                 Traceback (most recent call last)",
      "\u001b[0;32m~/miniconda3/envs/stable/lib/python3.6/site-packages/numpy/lib/npyio.py\u001b[0m in \u001b[0;36msavetxt\u001b[0;34m(fname, X, fmt, delimiter, newline, header, footer, comments)\u001b[0m\n\u001b[1;32m   1253\u001b[0m                 \u001b[0;32mtry\u001b[0m\u001b[0;34m:\u001b[0m\u001b[0;34m\u001b[0m\u001b[0m\n\u001b[0;32m-> 1254\u001b[0;31m                     \u001b[0mfh\u001b[0m\u001b[0;34m.\u001b[0m\u001b[0mwrite\u001b[0m\u001b[0;34m(\u001b[0m\u001b[0masbytes\u001b[0m\u001b[0;34m(\u001b[0m\u001b[0mformat\u001b[0m \u001b[0;34m%\u001b[0m \u001b[0mtuple\u001b[0m\u001b[0;34m(\u001b[0m\u001b[0mrow\u001b[0m\u001b[0;34m)\u001b[0m \u001b[0;34m+\u001b[0m \u001b[0mnewline\u001b[0m\u001b[0;34m)\u001b[0m\u001b[0;34m)\u001b[0m\u001b[0;34m\u001b[0m\u001b[0m\n\u001b[0m\u001b[1;32m   1255\u001b[0m                 \u001b[0;32mexcept\u001b[0m \u001b[0mTypeError\u001b[0m\u001b[0;34m:\u001b[0m\u001b[0;34m\u001b[0m\u001b[0m\n",
      "\u001b[0;31mTypeError\u001b[0m: only length-1 arrays can be converted to Python scalars",
      "\nDuring handling of the above exception, another exception occurred:\n",
      "\u001b[0;31mTypeError\u001b[0m                                 Traceback (most recent call last)",
      "\u001b[0;32m<ipython-input-71-bc607a48f1e6>\u001b[0m in \u001b[0;36m<module>\u001b[0;34m()\u001b[0m\n\u001b[1;32m      1\u001b[0m \u001b[0;31m# plot data\u001b[0m\u001b[0;34m\u001b[0m\u001b[0;34m\u001b[0m\u001b[0m\n\u001b[0;32m----> 2\u001b[0;31m \u001b[0mnp\u001b[0m\u001b[0;34m.\u001b[0m\u001b[0msavetxt\u001b[0m\u001b[0;34m(\u001b[0m\u001b[0;34m\"ithaca_tiles\"\u001b[0m\u001b[0;34m,\u001b[0m\u001b[0mtile_log\u001b[0m\u001b[0;34m)\u001b[0m\u001b[0;34m\u001b[0m\u001b[0m\n\u001b[0m\u001b[1;32m      3\u001b[0m \u001b[0;34m\u001b[0m\u001b[0m\n\u001b[1;32m      4\u001b[0m \u001b[0mseason_split\u001b[0m \u001b[0;34m=\u001b[0m \u001b[0mlen\u001b[0m\u001b[0;34m(\u001b[0m\u001b[0mmeta\u001b[0m\u001b[0;34m[\u001b[0m\u001b[0mmeta\u001b[0m\u001b[0;34m.\u001b[0m\u001b[0mseason\u001b[0m\u001b[0;34m==\u001b[0m\u001b[0;34m'season2'\u001b[0m\u001b[0;34m]\u001b[0m\u001b[0;34m)\u001b[0m\u001b[0;34m\u001b[0m\u001b[0m\n\u001b[1;32m      5\u001b[0m \u001b[0mplt\u001b[0m\u001b[0;34m.\u001b[0m\u001b[0mfigure\u001b[0m\u001b[0;34m(\u001b[0m\u001b[0;36m2\u001b[0m\u001b[0;34m,\u001b[0m\u001b[0mfigsize\u001b[0m\u001b[0;34m=\u001b[0m\u001b[0;34m(\u001b[0m\u001b[0;36m8\u001b[0m\u001b[0;34m,\u001b[0m\u001b[0;36m10\u001b[0m\u001b[0;34m)\u001b[0m\u001b[0;34m)\u001b[0m\u001b[0;34m\u001b[0m\u001b[0m\n",
      "\u001b[0;32m~/miniconda3/envs/stable/lib/python3.6/site-packages/numpy/lib/npyio.py\u001b[0m in \u001b[0;36msavetxt\u001b[0;34m(fname, X, fmt, delimiter, newline, header, footer, comments)\u001b[0m\n\u001b[1;32m   1256\u001b[0m                     raise TypeError(\"Mismatch between array dtype ('%s') and \"\n\u001b[1;32m   1257\u001b[0m                                     \u001b[0;34m\"format specifier ('%s')\"\u001b[0m\u001b[0;34m\u001b[0m\u001b[0m\n\u001b[0;32m-> 1258\u001b[0;31m                                     % (str(X.dtype), format))\n\u001b[0m\u001b[1;32m   1259\u001b[0m         \u001b[0;32mif\u001b[0m \u001b[0mlen\u001b[0m\u001b[0;34m(\u001b[0m\u001b[0mfooter\u001b[0m\u001b[0;34m)\u001b[0m \u001b[0;34m>\u001b[0m \u001b[0;36m0\u001b[0m\u001b[0;34m:\u001b[0m\u001b[0;34m\u001b[0m\u001b[0m\n\u001b[1;32m   1260\u001b[0m             \u001b[0mfooter\u001b[0m \u001b[0;34m=\u001b[0m \u001b[0mfooter\u001b[0m\u001b[0;34m.\u001b[0m\u001b[0mreplace\u001b[0m\u001b[0;34m(\u001b[0m\u001b[0;34m'\\n'\u001b[0m\u001b[0;34m,\u001b[0m \u001b[0;34m'\\n'\u001b[0m \u001b[0;34m+\u001b[0m \u001b[0mcomments\u001b[0m\u001b[0;34m)\u001b[0m\u001b[0;34m\u001b[0m\u001b[0m\n",
      "\u001b[0;31mTypeError\u001b[0m: Mismatch between array dtype ('object') and format specifier ('%.18e')"
     ]
    }
   ],
   "source": [
    "# plot data\n",
    "np.savetxt(\"ithaca_tiles\",tile_log)\n",
    "\n",
    "season_split = len(meta[meta.season=='season2'])\n",
    "plt.figure(2,figsize=(8,10))\n",
    "plt.subplot(211)\n",
    "plt.scatter(n_marks[:season_split,0],n_marks[:season_split,1],label='MY29',color='r',ms=2)\n",
    "plt.scatter(n_marks[season_split:,0],n_marks[season_split:,1],label='MY30',color='g',ms=2)\n",
    "plt.legend(frameon=True)\n",
    "plt.title('Ithaca number of markings - fans',fontsize=20)\n",
    "plt.xlabel('L_s (degrees)',fontsize=18)\n",
    "plt.ylabel('# markings / # tiles surveyed',fontsize=18)\n",
    "plt.subplot(212)\n",
    "plt.scatter(n_marks[:season_split,0],n_marks[:season_split,2],label='MY29',color='r',ms=2)\n",
    "plt.scatter(n_marks[season_split:,0],n_marks[season_split:,2],label='MY30',color='g',ms=2)\n",
    "plt.legend(frameon=True)\n",
    "plt.title('Ithaca number of markings - blotches',fontsize=20)\n",
    "plt.xlabel('L_s (degrees)',fontsize=18)\n",
    "plt.ylabel('# markings / # tiles surveyed',fontsize=18)\n",
    "plt.tight_layout()\n",
    "plt.figure(3,figsize=(8,10))\n",
    "plt.subplot(211)\n",
    "plt.scatter(n_marks[:season_split,0],f_histmax[:season_split],label='MY29',color='r',ms=2)\n",
    "plt.scatter(n_marks[season_split:,0],f_histmax[season_split:],label='MY30',color='g',ms=2)\n",
    "plt.legend(frameon=True)\n",
    "plt.title('Ithaca fan length',fontsize=20)\n",
    "plt.xlabel('L_s (degrees)',fontsize=18)\n",
    "plt.ylabel('hist max fan length (meters)',fontsize=18)\n",
    "plt.subplot(212)\n",
    "plt.scatter(n_marks[:season_split,0],b_histmax[:season_split],label='MY29',color='r',ms=2)\n",
    "plt.scatter(n_marks[season_split:,0],b_histmax[season_split:],label='MY30',color='g',ms=2)\n",
    "plt.legend(frameon=True)\n",
    "plt.title('Ithaca blotch area',fontsize=20)\n",
    "plt.xlabel('L_s (degrees)',fontsize=18)\n",
    "plt.ylabel('hist max blotch area (sq. meters)',fontsize=18)\n",
    "plt.tight_layout()\n",
    "plt.figure(4)\n",
    "plt.subplot(111)\n",
    "plt.scatter(n_marks[:season_split,0],img_areas[:season_split],label='MY29',color='r',ms=2)\n",
    "plt.scatter(n_marks[season_split:,0],img_areas[season_split:],label='MY30',color='g',ms=2)\n",
    "plt.legend(frameon=True)\n",
    "plt.title('Ithaca Coverage Area',fontsize=20)\n",
    "plt.xlabel('L_s (degrees)',fontsize=18)\n",
    "plt.ylabel('Covered area (sq. meters / tile)',fontsize=18)\n",
    "plt.tight_layout()\n",
    "plt.show()"
   ]
  },
  {
   "cell_type": "code",
   "execution_count": 75,
   "metadata": {
    "ExecuteTime": {
     "end_time": "2017-08-01T00:40:47.935751Z",
     "start_time": "2017-08-01T00:40:47.906677Z"
    },
    "scrolled": true
   },
   "outputs": [
    {
     "data": {
      "text/plain": [
       "(50, 103)"
      ]
     },
     "execution_count": 75,
     "metadata": {},
     "output_type": "execute_result"
    }
   ],
   "source": [
    "pd.DataFrame(tile_log).shape"
   ]
  },
  {
   "cell_type": "code",
   "execution_count": 76,
   "metadata": {
    "ExecuteTime": {
     "end_time": "2017-08-01T00:40:59.388030Z",
     "start_time": "2017-08-01T00:40:59.338661Z"
    },
    "scrolled": true
   },
   "outputs": [
    {
     "data": {
      "text/plain": [
       "(16, 103)"
      ]
     },
     "execution_count": 76,
     "metadata": {},
     "output_type": "execute_result"
    }
   ],
   "source": [
    "pd.DataFrame(tile_log).drop_duplicates().shape"
   ]
  },
  {
   "cell_type": "code",
   "execution_count": null,
   "metadata": {},
   "outputs": [],
   "source": []
  }
 ],
 "metadata": {
  "kernelspec": {
   "display_name": "Python [default]",
   "language": "python",
   "name": "python3"
  },
  "language_info": {
   "codemirror_mode": {
    "name": "ipython",
    "version": 3
   },
   "file_extension": ".py",
   "mimetype": "text/x-python",
   "name": "python",
   "nbconvert_exporter": "python",
   "pygments_lexer": "ipython3",
   "version": "3.6.2"
  },
  "toc": {
   "colors": {
    "hover_highlight": "#DAA520",
    "navigate_num": "#000000",
    "navigate_text": "#333333",
    "running_highlight": "#FF0000",
    "selected_highlight": "#FFD700",
    "sidebar_border": "#EEEEEE",
    "wrapper_background": "#FFFFFF"
   },
   "moveMenuLeft": true,
   "nav_menu": {
    "height": "12px",
    "width": "252px"
   },
   "navigate_menu": true,
   "number_sections": false,
   "sideBar": false,
   "threshold": 4,
   "toc_cell": true,
   "toc_section_display": "block",
   "toc_window_display": false,
   "widenNotebook": false
  }
 },
 "nbformat": 4,
 "nbformat_minor": 2
}
