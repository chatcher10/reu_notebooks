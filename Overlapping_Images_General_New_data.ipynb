{
 "cells": [
  {
   "cell_type": "code",
   "execution_count": 15,
   "metadata": {
    "collapsed": true
   },
   "outputs": [],
   "source": [
    "from planet4 import io, region_data, markings\n",
    "from p4_tools import get_final_markings_counts\n",
    "import pandas as pd\n",
    "import numpy as np\n",
    "import matplotlib.pyplot as plt\n",
    "import scipy.stats as stats\n",
    "from scipy.optimize import root, curve_fit, leastsq\n",
    "import pdb\n",
    "import shapely.geometry as shp\n",
    "import fiona as fio\n",
    "from shapely import affinity\n",
    "from shapely.ops import cascaded_union, unary_union\n",
    "import time"
   ]
  },
  {
   "cell_type": "code",
   "execution_count": 16,
   "metadata": {
    "collapsed": true
   },
   "outputs": [],
   "source": [
    "# read out metadata for season 2 and 3\n",
    "meta = pd.read_csv('ithaca_metadata.csv')\n",
    "\n",
    "# read out actual markings for fans and blotches, both seasons combined\n",
    "fans = pd.read_csv('ithaca_fans.csv')\n",
    "blotches = pd.read_csv('ithaca_blotches.csv')\n",
    "\n",
    "# read out tile coordinate data\n",
    "tiles = pd.read_csv('ithaca_tile_coords.csv')"
   ]
  },
  {
   "cell_type": "code",
   "execution_count": 17,
   "metadata": {},
   "outputs": [
    {
     "name": "stderr",
     "output_type": "stream",
     "text": [
      "/Users/chha0593/anaconda/lib/python3.6/site-packages/ipykernel_launcher.py:13: SettingWithCopyWarning: \n",
      "A value is trying to be set on a copy of a slice from a DataFrame\n",
      "\n",
      "See the caveats in the documentation: http://pandas.pydata.org/pandas-docs/stable/indexing.html#indexing-view-versus-copy\n",
      "  del sys.path[0]\n",
      "/Users/chha0593/anaconda/lib/python3.6/site-packages/ipykernel_launcher.py:14: SettingWithCopyWarning: \n",
      "A value is trying to be set on a copy of a slice from a DataFrame\n",
      "\n",
      "See the caveats in the documentation: http://pandas.pydata.org/pandas-docs/stable/indexing.html#indexing-view-versus-copy\n",
      "  \n",
      "/Users/chha0593/anaconda/lib/python3.6/site-packages/ipykernel_launcher.py:16: SettingWithCopyWarning: \n",
      "A value is trying to be set on a copy of a slice from a DataFrame\n",
      "\n",
      "See the caveats in the documentation: http://pandas.pydata.org/pandas-docs/stable/indexing.html#indexing-view-versus-copy\n",
      "  app.launch_new_instance()\n",
      "/Users/chha0593/anaconda/lib/python3.6/site-packages/ipykernel_launcher.py:17: SettingWithCopyWarning: \n",
      "A value is trying to be set on a copy of a slice from a DataFrame\n",
      "\n",
      "See the caveats in the documentation: http://pandas.pydata.org/pandas-docs/stable/indexing.html#indexing-view-versus-copy\n",
      "/Users/chha0593/anaconda/lib/python3.6/site-packages/ipykernel_launcher.py:27: SettingWithCopyWarning: \n",
      "A value is trying to be set on a copy of a slice from a DataFrame\n",
      "\n",
      "See the caveats in the documentation: http://pandas.pydata.org/pandas-docs/stable/indexing.html#indexing-view-versus-copy\n",
      "/Users/chha0593/anaconda/lib/python3.6/site-packages/ipykernel_launcher.py:28: SettingWithCopyWarning: \n",
      "A value is trying to be set on a copy of a slice from a DataFrame\n",
      "\n",
      "See the caveats in the documentation: http://pandas.pydata.org/pandas-docs/stable/indexing.html#indexing-view-versus-copy\n",
      "/Users/chha0593/anaconda/lib/python3.6/site-packages/ipykernel_launcher.py:29: SettingWithCopyWarning: \n",
      "A value is trying to be set on a copy of a slice from a DataFrame\n",
      "\n",
      "See the caveats in the documentation: http://pandas.pydata.org/pandas-docs/stable/indexing.html#indexing-view-versus-copy\n",
      "/Users/chha0593/anaconda/lib/python3.6/site-packages/ipykernel_launcher.py:30: SettingWithCopyWarning: \n",
      "A value is trying to be set on a copy of a slice from a DataFrame\n",
      "\n",
      "See the caveats in the documentation: http://pandas.pydata.org/pandas-docs/stable/indexing.html#indexing-view-versus-copy\n"
     ]
    }
   ],
   "source": [
    "# find unique obsids in the fans and blotches catalogs\n",
    "fimg_names = fans.image_name.unique()\n",
    "bimg_names = blotches.image_name.unique()\n",
    "fimg_id = fans.image_id.unique()\n",
    "bimg_id = blotches.image_id.unique()\n",
    "\n",
    "# add column for tile info, fill with tile info\n",
    "fans['tile_lat'] = 0\n",
    "fans['tile_lon'] = 0\n",
    "blotches['tile_lat'] = 0\n",
    "blotches['tile_lon'] = 0\n",
    "for i in range(len(fimg_id)):\n",
    "    fans.tile_lat[fans.image_id==fimg_id[i]] = float(tiles.PlanetocentricLatitude[tiles.image_id==fimg_id[i]])\n",
    "    fans.tile_lon[fans.image_id==fimg_id[i]] = float(tiles.PositiveEast360Longitude[tiles.image_id==fimg_id[i]])\n",
    "for i in range(len(bimg_id)):\n",
    "    blotches.tile_lat[blotches.image_id==bimg_id[i]] = float(tiles.PlanetocentricLatitude[tiles.image_id==bimg_id[i]])\n",
    "    blotches.tile_lon[blotches.image_id==bimg_id[i]] = float(tiles.PositiveEast360Longitude[tiles.image_id==bimg_id[i]])\n",
    "    \n",
    "# add column for season flag and validity of marking\n",
    "fans['season'] = 0\n",
    "fans['valid_marking'] = True\n",
    "blotches['season'] = 0\n",
    "blotches['valid_marking'] = True\n",
    "blotches['area'] = np.pi * blotches.radius_1 * blotches.radius_2 / 4\n",
    "\n",
    "# define column for season flag\n",
    "fans.season[fans.obsid.str[5] == '1'] = 2\n",
    "fans.season[fans.obsid.str[5] == '2'] = 3\n",
    "blotches.season[blotches.obsid.str[5] == '1'] = 2\n",
    "blotches.season[blotches.obsid.str[5] == '2'] = 3"
   ]
  },
  {
   "cell_type": "code",
   "execution_count": 18,
   "metadata": {},
   "outputs": [
    {
     "name": "stdout",
     "output_type": "stream",
     "text": [
      "maximum map_scale: 1.0 ; min_fan_marking: 10.0 ; min_bl_area: 78.5398163397\n"
     ]
    }
   ],
   "source": [
    "# find what size fans should be removed for fair comparison\n",
    "min_fan_pixels = fans.distance.min()\n",
    "min_bl_area = blotches.area.min()\n",
    "\n",
    "max_scale = np.max( meta.map_scale.max() )\n",
    "print('maximum map_scale:',  max_scale, '; min_fan_marking:', min_fan_pixels, '; min_bl_area:', min_bl_area)\n",
    "\n",
    "# if the minimal fan marking tool is = 10 pixels at max_bin = 4, it will correspond to  \n",
    "# min_fan_pixels * max_binning / image_binning\n",
    "meta['min_fan'] = min_fan_pixels * meta.map_scale.max() // meta.map_scale + 1\n",
    "\n",
    "# if the minimal blotch marking tool is = 80 sq. pixels at max_bin = 4, it will correspond to  \n",
    "# min_bl_area * max_binning^2 / image_binning^2\n",
    "meta['min_bl'] = min_bl_area * meta.map_scale.max()**2 // meta.map_scale**2 + 1\n"
   ]
  },
  {
   "cell_type": "code",
   "execution_count": 19,
   "metadata": {},
   "outputs": [
    {
     "name": "stderr",
     "output_type": "stream",
     "text": [
      "/Users/chha0593/anaconda/lib/python3.6/site-packages/ipykernel_launcher.py:7: SettingWithCopyWarning: \n",
      "A value is trying to be set on a copy of a slice from a DataFrame\n",
      "\n",
      "See the caveats in the documentation: http://pandas.pydata.org/pandas-docs/stable/indexing.html#indexing-view-versus-copy\n",
      "  import sys\n"
     ]
    },
    {
     "name": "stdout",
     "output_type": "stream",
     "text": [
      "18045\n"
     ]
    },
    {
     "name": "stderr",
     "output_type": "stream",
     "text": [
      "/Users/chha0593/anaconda/lib/python3.6/site-packages/ipykernel_launcher.py:14: SettingWithCopyWarning: \n",
      "A value is trying to be set on a copy of a slice from a DataFrame\n",
      "\n",
      "See the caveats in the documentation: http://pandas.pydata.org/pandas-docs/stable/indexing.html#indexing-view-versus-copy\n",
      "  \n"
     ]
    }
   ],
   "source": [
    "# mark \"valid_marking\" key to be False for blotch markings smaller than min_bl for that image\n",
    "print(len(blotches))\n",
    "for i in range(len(blotches)):\n",
    "    nr_image =  np.where(meta.obsid == blotches.obsid[i])[0][0]        \n",
    "    min_b = meta.min_bl[ nr_image  ]         \n",
    "    if (blotches.area[i] < min_b ):\n",
    "        blotches.valid_marking[i] = False\n",
    "            \n",
    "# mark \"valid_marking\" key to be False for fan markings smaller than min_fan for that image\n",
    "for i in range(len(fans)):\n",
    "    nr_image =  np.where(meta.obsid == fans.obsid[i])[0][0]        \n",
    "    min_f = meta.min_fan[ nr_image  ]         \n",
    "    if (fans.distance[i] < min_f ):\n",
    "        fans.valid_marking[i] = False"
   ]
  },
  {
   "cell_type": "code",
   "execution_count": 20,
   "metadata": {
    "collapsed": true
   },
   "outputs": [],
   "source": [
    "# create new data frame for all objects and metadata, select only objects that are valid markings\n",
    "objects = pd.DataFrame({'name':pd.concat((fans.image_name[fans.valid_marking==True],blotches.image_name[blotches.valid_marking==True])),\\\n",
    "                        'type':np.zeros(len(fans.valid_marking[fans.valid_marking==True])+len(blotches.valid_marking[blotches.valid_marking==True])),\\\n",
    "                        'long':pd.concat((fans.distance[fans.valid_marking==True],blotches.radius_1[blotches.valid_marking==True])),\\\n",
    "                        'short':pd.concat((fans.spread[fans.valid_marking==True],blotches.radius_2[blotches.valid_marking==True])),\\\n",
    "                        'x':pd.concat((fans.image_x[fans.valid_marking==True],blotches.image_x[blotches.valid_marking==True])),\\\n",
    "                        'y':pd.concat((fans.image_y[fans.valid_marking==True],blotches.image_y[blotches.valid_marking==True])),\\\n",
    "                        'angle':pd.concat((fans.angle[fans.valid_marking==True],blotches.angle[blotches.valid_marking==True])),\\\n",
    "                        'binning':np.zeros(len(fans.valid_marking[fans.valid_marking==True])+len(blotches.valid_marking[blotches.valid_marking==True])),\\\n",
    "                        'l_s':np.zeros(len(fans.valid_marking[fans.valid_marking==True])+len(blotches.valid_marking[blotches.valid_marking==True])),\\\n",
    "                        'x_angle':pd.concat((fans.x_angle[fans.valid_marking==True],blotches.x_angle[blotches.valid_marking==True])),\\\n",
    "                        'y_angle':pd.concat((fans.y_angle[fans.valid_marking==True],blotches.y_angle[blotches.valid_marking==True])),\\\n",
    "                        'tile_lat':pd.concat((fans.tile_lat[fans.valid_marking==True],blotches.tile_lat[blotches.valid_marking==True])),\\\n",
    "                        'tile_lon':pd.concat((fans.tile_lon[fans.valid_marking==True],blotches.tile_lon[blotches.valid_marking==True]))}).reset_index(drop=True)"
   ]
  },
  {
   "cell_type": "code",
   "execution_count": 21,
   "metadata": {
    "collapsed": true
   },
   "outputs": [],
   "source": [
    "# get list of unique images\n",
    "img_unique = objects.name.unique()\n",
    "\n",
    "# add columns for coverage and season in the meta dataframe\n",
    "meta['coverage'] = 0\n",
    "meta['coverage_redundant'] = 0\n",
    "\n",
    "# add column for binning and l_s, fill with info from meta\n",
    "for k in range(img_unique.size):\n",
    "    loc = np.where(objects.name==img_unique[k])[0]\n",
    "    m_loc = np.where(meta.obsid==img_unique[k])[0]\n",
    "    objects.loc[loc,'binning'] = np.asarray(meta.loc[m_loc,'binning'])\n",
    "    objects.loc[loc,'l_s'] = np.asarray(meta.loc[m_loc,'l_s'])\n",
    "\n",
    "# record type of each object - they are still in order from concatenation so this can be done with indexing\n",
    "split = len(fans.valid_marking[fans.valid_marking==True])\n",
    "objects.loc[:split,'type'] = 'f'\n",
    "objects.loc[split:,'type'] = 'b'\n",
    "\n",
    "#re-sort objects according to image, so that blotches and fans for the same image won't be split up\n",
    "objects = objects.sort_values(by='name').reset_index(drop=True)\n",
    "meta = meta.sort_values(by='obsid').reset_index(drop=True)"
   ]
  },
  {
   "cell_type": "code",
   "execution_count": 22,
   "metadata": {
    "collapsed": true
   },
   "outputs": [],
   "source": [
    "# create a list to store points corresponding to the corners (bounds) of each HiRise image\n",
    "# and a list to store the polygons made from the sets of points\n",
    "points = [None] * 4\n",
    "img_shapes = [None] * len(img_unique)\n",
    "plt.figure(1)\n",
    "for i in range(len(img_unique)):\n",
    "    boundshi = max(objects.tile_lat[objects.name==img_unique[i]])\n",
    "    boundsri = max(objects.tile_lon[objects.name==img_unique[i]])\n",
    "    boundslo = min(objects.tile_lat[objects.name==img_unique[i]])\n",
    "    boundsle = min(objects.tile_lon[objects.name==img_unique[i]])\n",
    "    points[0] = (boundshi,boundsri)\n",
    "    points[1] = (boundslo,boundsri)\n",
    "    points[2] = (boundslo,boundsle)\n",
    "    points[3] = (boundshi,boundsle)\n",
    "    img_shapes[i] = shp.Polygon(points[:])\n",
    "    # plot the outlines of the HiRise images as an example\n",
    "    x,y = img_shapes[i].exterior.xy\n",
    "    plt.plot(x,y)"
   ]
  },
  {
   "cell_type": "code",
   "execution_count": 23,
   "metadata": {
    "collapsed": true
   },
   "outputs": [],
   "source": [
    "# create arrays to store info on non-overlapping images\n",
    "misses = np.zeros((len(img_unique),len(img_unique)))\n",
    "ind2drop = np.zeros((len(img_unique)),dtype=int)\n",
    "\n",
    "# loop through images\n",
    "for i in range(len(img_unique)):\n",
    "    # loop through other images to check image [i]\n",
    "    for j in range(len(img_unique)-i-1):\n",
    "        # check if image[i] intersects the current image, if not, add a 1 in 'misses' array \n",
    "        # with index corresponding to the two non-overlapping images\n",
    "        if img_shapes[i].intersects(img_shapes[i+j+1])==False:\n",
    "            misses[i,i+j+1] = 1 \n",
    "\n",
    "# loop through possible cases of non-overlap\n",
    "for n in range(len(img_unique)):\n",
    "    # if all images intersect somewhwere, misses will be only zeros and the loop should be broken\n",
    "    if np.sum(misses)==0:\n",
    "        break\n",
    "    # get indices of flags in 'misses'\n",
    "    miss_inds = np.where(misses!=0)\n",
    "    # get which images were involved, sort by involvement\n",
    "    miss_unique = np.unique(miss_inds,return_counts=True)\n",
    "    # find which image came up the most in 'misses' - this is the one to remove next iteration\n",
    "    miss_max = max(miss_unique[1])\n",
    "    miss_max_ind = np.where(miss_unique[1]==miss_max)[0][0]\n",
    "    # get the index of that image in the collection of polygons 'img_shapes', add one so that \n",
    "    # the index '0' wouldn't get missed\n",
    "    ind2drop[n] = int(miss_unique[0][miss_max_ind]) + 1\n",
    "    # clear 'misses' of any flags corresponding to that image becuase it has been found all ready\n",
    "    misses[:,int(ind2drop[n])-1] = 0\n",
    "    misses[int(ind2drop[n])-1,:] = 0"
   ]
  },
  {
   "cell_type": "code",
   "execution_count": 24,
   "metadata": {
    "collapsed": true
   },
   "outputs": [],
   "source": [
    "# trim off excess zeroes in 'ind2drop'\n",
    "ind2drop = np.delete(ind2drop,np.where(ind2drop==0.0))\n",
    "\n",
    "# 'safe' is 1 where the index refers to an object to-be-dropped, and 0 otherwise (zeroes are safe objects)\n",
    "safe = np.zeros((len(img_unique)))\n",
    "safe[ind2drop-1] = 1\n",
    "\n",
    "# 'safes' are the indices of all safe objects, the first of which is the starting point for the next loop,\n",
    "# which is necessary to know in cases where the first few images are to-be-dropped\n",
    "safes = np.where(safe==0)\n",
    "start = int(safes[0][0])"
   ]
  },
  {
   "cell_type": "code",
   "execution_count": 25,
   "metadata": {},
   "outputs": [
    {
     "data": {
      "image/png": "[encoded data removed]",
      "text/plain": [
       "<matplotlib.figure.Figure at 0x103d47cc0>"
      ]
     },
     "metadata": {},
     "output_type": "display_data"
    }
   ],
   "source": [
    "# loop through images to define area with highest degree of overlap\n",
    "for i in range(len(img_unique)):\n",
    "    # first iteration - intersection of first and second object is the temporary object\n",
    "    if i == 0:\n",
    "        inter_temp = img_shapes[i].intersection(img_shapes[i+1])\n",
    "        # if '0' or '1' is an index-to-drop, temporary object is just the first safe object\n",
    "        if any([z-1==i for z in ind2drop]) or any([z-1==i+1 for z in ind2drop]):\n",
    "            inter_temp = img_shapes[start]\n",
    "        continue\n",
    "    # if this is the last iteration, temporary object is the final object\n",
    "    elif i == (len(img_unique)-1):\n",
    "        inter = inter_temp\n",
    "        break\n",
    "    # if the loop is on an index-to-drop, continue to next iteration, omitting this object\n",
    "    # from the calculation of 'inter'\n",
    "    elif any([z-1==i+1 for z in ind2drop])==True:\n",
    "        continue\n",
    "    # normal action - update temporary object as intersection with the next object in 'img_shapes'\n",
    "    else:\n",
    "        inter_temp = inter_temp.intersection(img_shapes[i+1])\n",
    "\n",
    "# plot the outline of the most overlapped area found in black, should look reasonable on previous plot\n",
    "xi,yi = inter.exterior.xy\n",
    "plt.plot(xi,yi,'k')\n",
    "plt.show()"
   ]
  },
  {
   "cell_type": "code",
   "execution_count": 26,
   "metadata": {
    "collapsed": true
   },
   "outputs": [],
   "source": [
    "# 'buffer' is a factor that determines how far inside or outside the extents of 'inter' an object's tile's \n",
    "# must be to be considered for calculation. a positive number allows objects outside 'inter' to be considered\n",
    "buffer = 0.0005\n",
    "# define lat/lon corresponding to corners of 'inter'\n",
    "lo_lat = xi[2] * (1. + buffer)\n",
    "hi_lat = xi[0] * (1. - buffer)\n",
    "lo_lon = yi[0] * (1. - buffer)\n",
    "hi_lon = yi[2] * (1. + buffer)\n",
    "\n",
    "# 'overlap_objs' are all the objects whose tile center is within the allowable distance around 'inter'\n",
    "overlap_objs = objects.loc[(objects['tile_lat'] > lo_lat) & (objects['tile_lon'] < hi_lon) & (objects['tile_lat'] < hi_lat) & (objects['tile_lon'] > lo_lon)]\n",
    "ol_img_unique = overlap_objs.name.unique()"
   ]
  },
  {
   "cell_type": "code",
   "execution_count": 27,
   "metadata": {
    "collapsed": true
   },
   "outputs": [],
   "source": [
    "# create arrays to be filled\n",
    "n_ol_img = len(ol_img_unique)\n",
    "n_marks = np.zeros((n_ol_img,3))\n",
    "n_objs = overlap_objs.name.value_counts()[0]\n",
    "img_fans = np.zeros((n_ol_img,n_objs))\n",
    "img_blotches = np.zeros((n_ol_img,n_objs))\n",
    "f_histmax = np.zeros((n_ol_img))\n",
    "b_histmax = np.zeros((n_ol_img))"
   ]
  },
  {
   "cell_type": "code",
   "execution_count": 28,
   "metadata": {
    "collapsed": true
   },
   "outputs": [],
   "source": [
    "# loop through each image\n",
    "for i in range(n_ol_img):\n",
    "    # get set of fans & blotches for each image, and get list of tiles in which these are contained\n",
    "    fans_ = overlap_objs.name[(overlap_objs.type=='f') & (overlap_objs.name==ol_img_unique[i])]\n",
    "    blotches_ = overlap_objs.name[(overlap_objs.type=='b') & (overlap_objs.name==ol_img_unique[i])]\n",
    "    fans_tiles = overlap_objs.tile_lat[(overlap_objs.name==ol_img_unique[i]) & (overlap_objs.type=='f')]\n",
    "    blotches_tiles = overlap_objs.tile_lat[(overlap_objs.name==ol_img_unique[i]) & (overlap_objs.type=='b')]\n",
    "    \n",
    "    # for each image, record l_s and the number of fans & blotches divided by the number of tiles considered\n",
    "    if len(fans_) > 0 and len(blotches_) > 0:\n",
    "        n_marks[i,0] = meta.l_s[meta.obsid==ol_img_unique[i]]\n",
    "        n_marks[i,1] = len(fans_)/len(fans_tiles.value_counts())\n",
    "        n_marks[i,2] = len(blotches_)/len(blotches_tiles.value_counts())\n",
    "    elif len(fans_) == 0:\n",
    "        n_marks[i,0] = meta.l_s[meta.obsid==ol_img_unique[i]]\n",
    "        n_marks[i,1] = np.nan\n",
    "        n_marks[i,2] = len(blotches_)/len(blotches_tiles.value_counts())\n",
    "    elif len(blotches_) == 0:\n",
    "        n_marks[i,0] = meta.l_s[meta.obsid==ol_img_unique[i]]\n",
    "        n_marks[i,1] = len(fans_)/len(fans_tiles.value_counts())\n",
    "        n_marks[i,2] = np.nan\n",
    "    \n",
    "    # get lengths and binnings of fans & blotches for each image, multiply these, fill length array (for fans)\n",
    "    # and area array (for blotches) with result\n",
    "    fan_lengths = overlap_objs.long[(overlap_objs.name==ol_img_unique[i]) & (overlap_objs.type=='f')]\n",
    "    fan_binning = overlap_objs.binning[(overlap_objs.name==ol_img_unique[i]) & (overlap_objs.type=='f')]\n",
    "    #img_fans[i,:len(fans_)] = fan_lengths * fan_binning\n",
    "    img_fans[i,:len(fans_)] = fan_lengths\n",
    "    blotch_len1 = overlap_objs.long[(overlap_objs.name==ol_img_unique[i]) & (overlap_objs.type=='b')]\n",
    "    blotch_len2 = overlap_objs.short[(overlap_objs.name==ol_img_unique[i]) & (overlap_objs.type=='b')]\n",
    "    blotch_binning = overlap_objs.binning[(overlap_objs.name==ol_img_unique[i]) & (overlap_objs.type=='b')]\n",
    "    #img_blotches[i,:len(blotches_)] = blotch_len1 * blotch_len2 * blotch_binning * np.pi\n",
    "    img_blotches[i,:len(blotches_)] = blotch_len1 * blotch_len2 * np.pi\n",
    "    \n",
    "    # create a histogram of fans' & blotches' size distribution for each image,\n",
    "    # find max of each histogram, record in 'histmax'\n",
    "    f_hist,f_binedges = np.histogram(img_fans[i,np.where(img_fans[i,:]>0.0)],bins=50)\n",
    "    f_histmax[i] = f_binedges[np.where(f_hist==f_hist.max())[0][0]]\n",
    "    b_hist,b_binedges = np.histogram(img_blotches[i,np.where(img_blotches[i,:]>0.0)],bins=50)\n",
    "    b_histmax[i] = b_binedges[np.where(b_hist==b_hist.max())[0][0]]\n",
    "    # replace zeroes with NaN's\n",
    "    if f_histmax[i]==0:\n",
    "        f_histmax[i] = np.nan\n",
    "    if b_histmax[i]==0:\n",
    "        b_histmax[i] = np.nan"
   ]
  },
  {
   "cell_type": "code",
   "execution_count": 29,
   "metadata": {},
   "outputs": [
    {
     "data": {
      "image/png": "[encoded data removed]",
      "text/plain": [
       "<matplotlib.figure.Figure at 0x103df2c88>"
      ]
     },
     "metadata": {},
     "output_type": "display_data"
    },
    {
     "data": {
      "image/png": "[encoded data removed]",
      "text/plain": [
       "<matplotlib.figure.Figure at 0x11343ce80>"
      ]
     },
     "metadata": {},
     "output_type": "display_data"
    }
   ],
   "source": [
    "# plot data\n",
    "season_split = len(meta[meta.season=='season2'])\n",
    "plt.figure(2)\n",
    "plt.subplot(121)\n",
    "plt.scatter(n_marks[:season_split,0],n_marks[:season_split,1],label='MY29')\n",
    "plt.scatter(n_marks[season_split:,0],n_marks[season_split:,1],label='MY30')\n",
    "plt.legend()\n",
    "plt.title('Ithaca number of markings - fans')\n",
    "plt.xlabel('L_s (degrees)')\n",
    "plt.ylabel('# markings / # tiles surveyed')\n",
    "plt.subplot(122)\n",
    "plt.scatter(n_marks[:season_split,0],n_marks[:season_split,2],label='MY29')\n",
    "plt.scatter(n_marks[season_split:,0],n_marks[season_split:,2],label='MY30')\n",
    "plt.legend()\n",
    "plt.title('Ithaca number of markings - blotches')\n",
    "plt.xlabel('L_s (degrees)')\n",
    "plt.ylabel('# markings / # tiles surveyed')\n",
    "plt.figure(3)\n",
    "plt.subplot(121)\n",
    "plt.scatter(n_marks[:season_split,0],f_histmax[:season_split],label='MY29')\n",
    "plt.scatter(n_marks[season_split:,0],f_histmax[season_split:],label='MY30')\n",
    "plt.legend()\n",
    "plt.title('Ithaca fan length')\n",
    "plt.xlabel('L_s (degrees)')\n",
    "plt.ylabel('hist max fan length (pixels)')\n",
    "plt.subplot(122)\n",
    "plt.scatter(n_marks[:season_split,0],b_histmax[:season_split],label='MY29')\n",
    "plt.scatter(n_marks[season_split:,0],b_histmax[season_split:],label='MY30')\n",
    "plt.legend()\n",
    "plt.title('Ithaca blotch area')\n",
    "plt.xlabel('L_s (degrees)')\n",
    "plt.ylabel('hist max blotch area (pixels)')\n",
    "plt.show()"
   ]
  },
  {
   "cell_type": "code",
   "execution_count": null,
   "metadata": {
    "collapsed": true
   },
   "outputs": [],
   "source": []
  }
 ],
 "metadata": {
  "kernelspec": {
   "display_name": "Python 3",
   "language": "python",
   "name": "python3"
  },
  "language_info": {
   "codemirror_mode": {
    "name": "ipython",
    "version": 3
   },
   "file_extension": ".py",
   "mimetype": "text/x-python",
   "name": "python",
   "nbconvert_exporter": "python",
   "pygments_lexer": "ipython3",
   "version": "3.6.1"
  }
 },
 "nbformat": 4,
 "nbformat_minor": 2
}
