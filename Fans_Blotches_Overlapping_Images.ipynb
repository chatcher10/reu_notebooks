{
 "cells": [
  {
   "cell_type": "code",
   "execution_count": 1,
   "metadata": {
    "collapsed": true
   },
   "outputs": [],
   "source": [
    "from planet4 import io, region_data, markings\n",
    "from p4_tools import get_final_markings_counts\n",
    "import pandas as pd\n",
    "import numpy as np\n",
    "import matplotlib.pyplot as plt\n",
    "import scipy.stats as stats\n",
    "from scipy.optimize import root, curve_fit, leastsq\n",
    "import pdb\n",
    "import shapely.geometry as shp\n",
    "import fiona as fio\n",
    "from shapely import affinity\n",
    "from shapely.ops import cascaded_union, unary_union\n",
    "import time"
   ]
  },
  {
   "cell_type": "code",
   "execution_count": 2,
   "metadata": {
    "collapsed": true
   },
   "outputs": [],
   "source": [
    "# read out metadata for season 2 and 3\n",
    "s2_meta = pd.read_csv('ithaca_season2_metadata.csv')\n",
    "s3_meta = pd.read_csv('ithaca_season3_metadata.csv')\n",
    "\n",
    "# read out actual markings for fans and blotches, both seasons combined\n",
    "fans = pd.read_csv('ithaca_fans.csv')\n",
    "blotches = pd.read_csv('ithaca_blotches.csv')\n",
    "\n",
    "# read out tile coordinate data\n",
    "tiles = pd.read_csv('ithaca_tile_coords.csv')"
   ]
  },
  {
   "cell_type": "code",
   "execution_count": 3,
   "metadata": {},
   "outputs": [
    {
     "name": "stderr",
     "output_type": "stream",
     "text": [
      "/Users/chha0593/anaconda/lib/python3.6/site-packages/ipykernel_launcher.py:13: SettingWithCopyWarning: \n",
      "A value is trying to be set on a copy of a slice from a DataFrame\n",
      "\n",
      "See the caveats in the documentation: http://pandas.pydata.org/pandas-docs/stable/indexing.html#indexing-view-versus-copy\n",
      "  del sys.path[0]\n",
      "/Users/chha0593/anaconda/lib/python3.6/site-packages/ipykernel_launcher.py:14: SettingWithCopyWarning: \n",
      "A value is trying to be set on a copy of a slice from a DataFrame\n",
      "\n",
      "See the caveats in the documentation: http://pandas.pydata.org/pandas-docs/stable/indexing.html#indexing-view-versus-copy\n",
      "  \n",
      "/Users/chha0593/anaconda/lib/python3.6/site-packages/ipykernel_launcher.py:16: SettingWithCopyWarning: \n",
      "A value is trying to be set on a copy of a slice from a DataFrame\n",
      "\n",
      "See the caveats in the documentation: http://pandas.pydata.org/pandas-docs/stable/indexing.html#indexing-view-versus-copy\n",
      "  app.launch_new_instance()\n",
      "/Users/chha0593/anaconda/lib/python3.6/site-packages/ipykernel_launcher.py:17: SettingWithCopyWarning: \n",
      "A value is trying to be set on a copy of a slice from a DataFrame\n",
      "\n",
      "See the caveats in the documentation: http://pandas.pydata.org/pandas-docs/stable/indexing.html#indexing-view-versus-copy\n",
      "/Users/chha0593/anaconda/lib/python3.6/site-packages/ipykernel_launcher.py:27: SettingWithCopyWarning: \n",
      "A value is trying to be set on a copy of a slice from a DataFrame\n",
      "\n",
      "See the caveats in the documentation: http://pandas.pydata.org/pandas-docs/stable/indexing.html#indexing-view-versus-copy\n",
      "/Users/chha0593/anaconda/lib/python3.6/site-packages/ipykernel_launcher.py:28: SettingWithCopyWarning: \n",
      "A value is trying to be set on a copy of a slice from a DataFrame\n",
      "\n",
      "See the caveats in the documentation: http://pandas.pydata.org/pandas-docs/stable/indexing.html#indexing-view-versus-copy\n",
      "/Users/chha0593/anaconda/lib/python3.6/site-packages/ipykernel_launcher.py:29: SettingWithCopyWarning: \n",
      "A value is trying to be set on a copy of a slice from a DataFrame\n",
      "\n",
      "See the caveats in the documentation: http://pandas.pydata.org/pandas-docs/stable/indexing.html#indexing-view-versus-copy\n",
      "/Users/chha0593/anaconda/lib/python3.6/site-packages/ipykernel_launcher.py:30: SettingWithCopyWarning: \n",
      "A value is trying to be set on a copy of a slice from a DataFrame\n",
      "\n",
      "See the caveats in the documentation: http://pandas.pydata.org/pandas-docs/stable/indexing.html#indexing-view-versus-copy\n"
     ]
    }
   ],
   "source": [
    "# find unique obsids in the fans and blotches catalogs\n",
    "fimg_names = fans.image_name.unique()\n",
    "bimg_names = blotches.image_name.unique()\n",
    "fimg_id = fans.image_id.unique()\n",
    "bimg_id = blotches.image_id.unique()\n",
    "\n",
    "# add columns for tile position, fill from tile coordinate data\n",
    "fans['tile_lat'] = 0\n",
    "fans['tile_lon'] = 0\n",
    "blotches['tile_lat'] = 0\n",
    "blotches['tile_lon'] = 0\n",
    "for i in range(len(fimg_id)):\n",
    "    fans.tile_lat[fans.image_id==fimg_id[i]] = float(tiles.PlanetocentricLatitude[tiles.image_id==fimg_id[i]])\n",
    "    fans.tile_lon[fans.image_id==fimg_id[i]] = float(tiles.PositiveEast360Longitude[tiles.image_id==fimg_id[i]])\n",
    "for i in range(len(bimg_id)):\n",
    "    blotches.tile_lat[blotches.image_id==bimg_id[i]] = float(tiles.PlanetocentricLatitude[tiles.image_id==bimg_id[i]])\n",
    "    blotches.tile_lon[blotches.image_id==bimg_id[i]] = float(tiles.PositiveEast360Longitude[tiles.image_id==bimg_id[i]])\n",
    "    \n",
    "# add column for season flag and validity of marking\n",
    "fans['season'] = 0\n",
    "fans['valid_marking'] = True\n",
    "blotches['season'] = 0\n",
    "blotches['valid_marking'] = True\n",
    "blotches['area'] = np.pi * blotches.radius_1 * blotches.radius_2 / 4\n",
    "\n",
    "# define column for season flag\n",
    "fans.season[fans.obsid.str[5] == '1'] = 2\n",
    "fans.season[fans.obsid.str[5] == '2'] = 3\n",
    "blotches.season[blotches.obsid.str[5] == '1'] = 2\n",
    "blotches.season[blotches.obsid.str[5] == '2'] = 3"
   ]
  },
  {
   "cell_type": "code",
   "execution_count": 4,
   "metadata": {},
   "outputs": [
    {
     "name": "stdout",
     "output_type": "stream",
     "text": [
      "maximum map_scale: 1.0 ; min_fan_marking: 10.0 ; min_bl_area: 78.5398163397\n"
     ]
    }
   ],
   "source": [
    "# find what size fans should be removed for fair comparison\n",
    "min_fan_pixels = fans.distance.min()\n",
    "min_bl_area = blotches.area.min()\n",
    "\n",
    "max_scale = np.max( (s2_meta.map_scale.max(), s3_meta.map_scale.max() ) )\n",
    "print('maximum map_scale:',  max_scale, '; min_fan_marking:', min_fan_pixels, '; min_bl_area:', min_bl_area)\n",
    "\n",
    "# if the minimal fan marking tool is = 10 pixels at max_bin = 4, it will correspond to  \n",
    "# min_fan_pixels * max_binning / image_binning\n",
    "s2_meta['min_fan'] = min_fan_pixels * s2_meta.map_scale.max() // s2_meta.map_scale + 1\n",
    "s3_meta['min_fan'] = min_fan_pixels * s3_meta.map_scale.max() // s3_meta.map_scale + 1\n",
    "\n",
    "# if the minimal blotch marking tool is = 80 sq. pixels at max_bin = 4, it will correspond to  \n",
    "# min_bl_area * max_binning^2 / image_binning^2\n",
    "s2_meta['min_bl'] = min_bl_area * s2_meta.map_scale.max()**2 // s2_meta.map_scale**2 + 1\n",
    "s3_meta['min_bl'] = min_bl_area * s3_meta.map_scale.max()**2 // s3_meta.map_scale**2 + 1\n"
   ]
  },
  {
   "cell_type": "code",
   "execution_count": 5,
   "metadata": {},
   "outputs": [
    {
     "name": "stderr",
     "output_type": "stream",
     "text": [
      "/Users/chha0593/anaconda/lib/python3.6/site-packages/ipykernel_launcher.py:8: SettingWithCopyWarning: \n",
      "A value is trying to be set on a copy of a slice from a DataFrame\n",
      "\n",
      "See the caveats in the documentation: http://pandas.pydata.org/pandas-docs/stable/indexing.html#indexing-view-versus-copy\n",
      "  \n"
     ]
    },
    {
     "name": "stdout",
     "output_type": "stream",
     "text": [
      "18045\n"
     ]
    },
    {
     "name": "stderr",
     "output_type": "stream",
     "text": [
      "/Users/chha0593/anaconda/lib/python3.6/site-packages/ipykernel_launcher.py:13: SettingWithCopyWarning: \n",
      "A value is trying to be set on a copy of a slice from a DataFrame\n",
      "\n",
      "See the caveats in the documentation: http://pandas.pydata.org/pandas-docs/stable/indexing.html#indexing-view-versus-copy\n",
      "  del sys.path[0]\n",
      "/Users/chha0593/anaconda/lib/python3.6/site-packages/ipykernel_launcher.py:21: SettingWithCopyWarning: \n",
      "A value is trying to be set on a copy of a slice from a DataFrame\n",
      "\n",
      "See the caveats in the documentation: http://pandas.pydata.org/pandas-docs/stable/indexing.html#indexing-view-versus-copy\n",
      "/Users/chha0593/anaconda/lib/python3.6/site-packages/ipykernel_launcher.py:26: SettingWithCopyWarning: \n",
      "A value is trying to be set on a copy of a slice from a DataFrame\n",
      "\n",
      "See the caveats in the documentation: http://pandas.pydata.org/pandas-docs/stable/indexing.html#indexing-view-versus-copy\n"
     ]
    }
   ],
   "source": [
    "# mark \"valid_marking\" key to be False for blotch markings smaller than min_bl for that image\n",
    "print(len(blotches))\n",
    "for i in range(len(blotches)):\n",
    "    if (blotches.season[i] == 2): \n",
    "        nr_image =  np.where(s2_meta.obsid == blotches.obsid[i])[0][0]        \n",
    "        min_b = s2_meta.min_bl[ nr_image  ]         \n",
    "        if (blotches.area[i] < min_b ):\n",
    "            blotches.valid_marking[i] = False\n",
    "    if (blotches.season[i] == 3): \n",
    "        nr_image =  np.where(s3_meta.obsid == blotches.obsid[i])[0][0]        \n",
    "        min_bl = s3_meta.min_bl[ nr_image  ]         \n",
    "        if (blotches.area[i] < min_b ):\n",
    "            blotches.valid_marking[i] = False\n",
    "            \n",
    "# mark \"valid_marking\" key to be False for fan markings smaller than min_fan for that image\n",
    "for i in range(len(fans)):\n",
    "    if (fans.season[i] == 2): \n",
    "        nr_image =  np.where(s2_meta.obsid == fans.obsid[i])[0][0]        \n",
    "        min_f = s2_meta.min_fan[ nr_image  ]         \n",
    "        if (fans.distance[i] < min_f ):\n",
    "            fans.valid_marking[i] = False\n",
    "    if (fans.season[i] == 3): \n",
    "        nr_image =  np.where(s3_meta.obsid == fans.obsid[i])[0][0]        \n",
    "        min_f = s3_meta.min_fan[ nr_image  ]         \n",
    "        if (fans.distance[i] < min_f ):\n",
    "            fans.valid_marking[i] = False"
   ]
  },
  {
   "cell_type": "code",
   "execution_count": 27,
   "metadata": {
    "collapsed": true
   },
   "outputs": [],
   "source": [
    "# put all objects together in one df, put all metadata in one df\n",
    "objects = pd.DataFrame({'name':pd.concat((fans.image_name[fans.valid_marking==True],blotches.image_name[blotches.valid_marking==True])),'type':np.zeros(len(fans.valid_marking[fans.valid_marking==True])+len(blotches.valid_marking[blotches.valid_marking==True])),'long':pd.concat((fans.distance[fans.valid_marking==True],blotches.radius_1[blotches.valid_marking==True])),'short':pd.concat((fans.spread[fans.valid_marking==True],blotches.radius_2[blotches.valid_marking==True])),'x':pd.concat((fans.image_x[fans.valid_marking==True],blotches.image_x[blotches.valid_marking==True])),'y':pd.concat((fans.image_y[fans.valid_marking==True],blotches.image_y[blotches.valid_marking==True])),'angle':pd.concat((fans.angle[fans.valid_marking==True],blotches.angle[blotches.valid_marking==True])),'binning':np.zeros(len(fans.valid_marking[fans.valid_marking==True])+len(blotches.valid_marking[blotches.valid_marking==True])),'l_s':np.zeros(len(fans.valid_marking[fans.valid_marking==True])+len(blotches.valid_marking[blotches.valid_marking==True])),'x_angle':pd.concat((fans.x_angle[fans.valid_marking==True],blotches.x_angle[blotches.valid_marking==True])),'y_angle':pd.concat((fans.y_angle[fans.valid_marking==True],blotches.y_angle[blotches.valid_marking==True])),'tile_lat':pd.concat((fans.tile_lat[fans.valid_marking==True],blotches.tile_lat[blotches.valid_marking==True])),'tile_lon':pd.concat((fans.tile_lon[fans.valid_marking==True],blotches.tile_lon[blotches.valid_marking==True]))}).reset_index(drop=True)\n",
    "img_unique = objects.name.unique()\n",
    "meta = pd.concat((s2_meta,s3_meta)).reset_index(drop=True)\n",
    "\n",
    "# add columns for coverage and season, fill in season\n",
    "meta['coverage'] = 0\n",
    "meta['coverage_redundant'] = 0\n",
    "meta['season'] = 0\n",
    "meta.iloc[:len(s2_meta),13] = 2\n",
    "meta.iloc[len(s2_meta):,13] = 3\n",
    "\n",
    "#add column for binning, l_s, and type of object\n",
    "for k in range(img_unique.size):\n",
    "    objects.iloc[np.where(objects.name==img_unique[k])[0],2] = np.asarray(meta.iloc[np.where(meta.obsid==img_unique[k])[0],2])\n",
    "    objects.iloc[np.where(objects.name==img_unique[k])[0],1] = np.asarray(meta.iloc[np.where(meta.obsid==img_unique[k])[0],0])\n",
    "    objects.loc[:len(fans.valid_marking[fans.valid_marking==True]),'type'] = 'f'\n",
    "    objects.loc[len(fans.valid_marking[fans.valid_marking==True]):,'type'] = 'b'\n",
    "\n",
    "#re-sort objects according to image, so that blotches and fans for the same image won't be split up\n",
    "objects = objects.sort_values(by='name').reset_index(drop=True)\n",
    "meta = meta.sort_values(by='obsid').reset_index(drop=True)"
   ]
  },
  {
   "cell_type": "code",
   "execution_count": 28,
   "metadata": {},
   "outputs": [],
   "source": [
    "# defining HiRise images as shapely polygons\n",
    "bounds = np.zeros((len(img_unique),4))\n",
    "points = [None] * 4\n",
    "img_shapes = [None] * len(img_unique)\n",
    "plt.figure(1)\n",
    "for i in range(len(img_unique)):\n",
    "    # find the corners of each HiRise image based on min and max tile positions\n",
    "    bounds[i,0] = max(objects.tile_lat[objects.name==img_unique[i]])\n",
    "    bounds[i,1] = max(objects.tile_lon[objects.name==img_unique[i]])\n",
    "    bounds[i,2] = min(objects.tile_lat[objects.name==img_unique[i]])\n",
    "    bounds[i,3] = min(objects.tile_lon[objects.name==img_unique[i]])\n",
    "    # define corners as points\n",
    "    points[0] = (bounds[i,0],bounds[i,1])\n",
    "    points[1] = (bounds[i,2],bounds[i,1])\n",
    "    points[2] = (bounds[i,2],bounds[i,3])\n",
    "    points[3] = (bounds[i,0],bounds[i,3])\n",
    "    # make a polygon out of the points, represents a HiRise image\n",
    "    img_shapes[i] = shp.Polygon(points[:])\n",
    "    # get coordinates of exterior of each polygon, plot as an example (visible after next cell)\n",
    "    x,y = img_shapes[i].exterior.xy\n",
    "    plt.plot(x,y)"
   ]
  },
  {
   "cell_type": "code",
   "execution_count": 29,
   "metadata": {},
   "outputs": [
    {
     "data": {
      "image/png": "[encoded data removed]",
      "text/plain": [
       "<matplotlib.figure.Figure at 0x11722c780>"
      ]
     },
     "metadata": {},
     "output_type": "display_data"
    }
   ],
   "source": [
    "# find most overlapped area - if all polygons in 'img_shapes' intersect, this could be done in a loop,\n",
    "# but in this case, one of the polygons does not intersect some others, so that one was selected by inspection\n",
    "# and manually left out. The next line defines the object that is the intersection of all included HiRise images\n",
    "inter = img_shapes[0].intersection(img_shapes[1]).intersection(img_shapes[2]).intersection(img_shapes[3]).intersection(img_shapes[4]).intersection(img_shapes[5]).intersection(img_shapes[6]).intersection(img_shapes[7]).intersection(img_shapes[8]).intersection(img_shapes[9]).intersection(img_shapes[10]).intersection(img_shapes[11]).intersection(img_shapes[12]).intersection(img_shapes[13]).intersection(img_shapes[15])\n",
    "# get the coordinates of the exterior of this polygon, plot in black on example plot from last cell\n",
    "xi,yi = inter.exterior.xy\n",
    "plt.plot(xi,yi,'k')\n",
    "plt.show()"
   ]
  },
  {
   "cell_type": "markdown",
   "metadata": {},
   "source": [
    "NOTE : in the plot above, the rectangle to the right of the black box is the image that does not intersect all the others. it should be red. its index in 'img_shapes' is 14 and it is left out of the calculation of 'inter', but it still has tiles and objects included in 'overlap_objs' because of the buffer"
   ]
  },
  {
   "cell_type": "code",
   "execution_count": 23,
   "metadata": {
    "collapsed": true
   },
   "outputs": [],
   "source": [
    "# buffer is the error margin surrounding 'inter' - make it bigger to allow tiles farther from the exterior of 'inter' \n",
    "# to be included. it is set to a number that allows some tiles from all images to be included\n",
    "buffer = 0.0005\n",
    "# next 4 lines define the corners of 'inter' (with buffering) for filtering\n",
    "lo_lat = xi[2] * (1. + buffer)\n",
    "hi_lat = xi[0] * (1. - buffer)\n",
    "lo_lon = yi[0] * (1. - buffer)\n",
    "hi_lon = yi[2] * (1. + buffer)"
   ]
  },
  {
   "cell_type": "code",
   "execution_count": 24,
   "metadata": {
    "collapsed": true
   },
   "outputs": [],
   "source": [
    "# filter 'objects' so that only markings in tiles whose centers are within boundaries in cell above are left in\n",
    "overlap_objs = objects.loc[(objects['tile_lat'] > lo_lat) & (objects['tile_lon'] < hi_lon) & (objects['tile_lat'] < hi_lat) & (objects['tile_lon'] > lo_lon)]\n",
    "ol_img_unique = overlap_objs.name.unique()"
   ]
  },
  {
   "cell_type": "code",
   "execution_count": 25,
   "metadata": {
    "collapsed": true
   },
   "outputs": [],
   "source": [
    "# create space for data to be plotted\n",
    "n_marks = np.zeros((len(ol_img_unique),5))\n",
    "img_fans = np.zeros((len(ol_img_unique),overlap_objs.name.value_counts()[0]))\n",
    "img_blotches = np.zeros((len(ol_img_unique),overlap_objs.name.value_counts()[0]))\n",
    "f_histmax = np.zeros((len(ol_img_unique)))\n",
    "b_histmax = np.zeros((len(ol_img_unique)))\n",
    "for i in range(len(ol_img_unique)):\n",
    "    # record number of fans, then blotches for each image\n",
    "    n_marks[i,0] = overlap_objs.name[(overlap_objs.type=='f') & (overlap_objs.name==ol_img_unique[i])].value_counts()[0]\n",
    "    n_marks[i,1] = overlap_objs.name[(overlap_objs.type=='b') & (overlap_objs.name==ol_img_unique[i])].value_counts()[0]\n",
    "    # record l_s for each image to make plotting simpler\n",
    "    n_marks[i,2] = meta.l_s[meta.obsid==ol_img_unique[i]]\n",
    "    # record number of fans, then blotches for each image divided by the number of tiles from that image included in 'overlap_objs'\n",
    "    n_marks[i,3] = n_marks[i,0]//len(overlap_objs.tile_lat[(overlap_objs.name==ol_img_unique[i]) & (overlap_objs.type=='f')].value_counts())\n",
    "    n_marks[i,4] = n_marks[i,1]//len(overlap_objs.tile_lat[(overlap_objs.name==ol_img_unique[i]) & (overlap_objs.type=='b')].value_counts())\n",
    "    # put fan lengths (*binning), then blotch areas (*binning) in array organized by image\n",
    "    img_fans[i,:overlap_objs.name[(overlap_objs.name==ol_img_unique[i]) & (overlap_objs.type=='f')].value_counts()[0]] = overlap_objs.long[(overlap_objs.name==ol_img_unique[i]) & (overlap_objs.type=='f')] * overlap_objs.binning[(overlap_objs.name==ol_img_unique[i]) & (overlap_objs.type=='f')]\n",
    "    img_blotches[i,:overlap_objs.name[(overlap_objs.name==ol_img_unique[i]) & (overlap_objs.type=='b')].value_counts()[0]] = overlap_objs.long[(overlap_objs.name==ol_img_unique[i]) & (overlap_objs.type=='b')] * overlap_objs.short[(overlap_objs.name==ol_img_unique[i]) & (overlap_objs.type=='b')] * overlap_objs.binning[(overlap_objs.name==ol_img_unique[i]) & (overlap_objs.type=='b')] * np.pi\n",
    "    # find fan length, then blotch area corresponding to hist max, record that\n",
    "    f_hist,f_binedges = np.histogram(img_fans[i,np.where(img_fans[i,:]>0.0)],bins=50)\n",
    "    f_histmax[i] = f_binedges[np.where(f_hist==f_hist.max())[0][0]]\n",
    "    b_hist,b_binedges = np.histogram(img_blotches[i,np.where(img_blotches[i,:]>0.0)],bins=50)\n",
    "    b_histmax[i] = b_binedges[np.where(b_hist==b_hist.max())[0][0]]"
   ]
  },
  {
   "cell_type": "code",
   "execution_count": 26,
   "metadata": {},
   "outputs": [
    {
     "data": {
      "image/png": "[encoded data removed]",
      "text/plain": [
       "<matplotlib.figure.Figure at 0x117cda2b0>"
      ]
     },
     "metadata": {},
     "output_type": "display_data"
    },
    {
     "data": {
      "image/png": "[encoded data removed]",
      "text/plain": [
       "<matplotlib.figure.Figure at 0x117f76e80>"
      ]
     },
     "metadata": {},
     "output_type": "display_data"
    }
   ],
   "source": [
    "# plot data\n",
    "plt.figure(2)\n",
    "plt.subplot(121)\n",
    "plt.scatter(n_marks[:len(s2_meta),2],n_marks[:len(s2_meta),3],label='MY29')\n",
    "plt.scatter(n_marks[len(s2_meta):,2],n_marks[len(s2_meta):,3],label='MY30')\n",
    "plt.legend()\n",
    "plt.title('Ithaca number of markings - fans')\n",
    "plt.xlabel('L_s (degrees)')\n",
    "plt.ylabel('# markings / # tiles surveyed')\n",
    "plt.subplot(122)\n",
    "plt.scatter(n_marks[:len(s2_meta),2],n_marks[:len(s2_meta),4],label='MY29')\n",
    "plt.scatter(n_marks[len(s2_meta):,2],n_marks[len(s2_meta):,4],label='MY30')\n",
    "plt.legend()\n",
    "plt.title('Ithaca number of markings - blotches')\n",
    "plt.xlabel('L_s (degrees)')\n",
    "plt.ylabel('# markings / # tiles surveyed')\n",
    "plt.figure(3)\n",
    "plt.subplot(121)\n",
    "plt.scatter(n_marks[:len(s2_meta),2],f_histmax[:len(s2_meta)],label='MY29')\n",
    "plt.scatter(n_marks[len(s2_meta):,2],f_histmax[len(s2_meta):],label='MY30')\n",
    "plt.legend()\n",
    "plt.title('Ithaca fan length')\n",
    "plt.xlabel('L_s (degrees)')\n",
    "plt.ylabel('hist max fan length (pixels*binning)')\n",
    "plt.subplot(122)\n",
    "plt.scatter(n_marks[:len(s2_meta),2],b_histmax[:len(s2_meta)],label='MY29')\n",
    "plt.scatter(n_marks[len(s2_meta):,2],b_histmax[len(s2_meta):],label='MY30')\n",
    "plt.legend()\n",
    "plt.title('Ithaca blotch area')\n",
    "plt.xlabel('L_s (degrees)')\n",
    "plt.ylabel('hist max blotch area (pixels*binning)')\n",
    "plt.show()"
   ]
  },
  {
   "cell_type": "code",
   "execution_count": null,
   "metadata": {
    "collapsed": true
   },
   "outputs": [],
   "source": []
  }
 ],
 "metadata": {
  "kernelspec": {
   "display_name": "Python 3",
   "language": "python",
   "name": "python3"
  },
  "language_info": {
   "codemirror_mode": {
    "name": "ipython",
    "version": 3
   },
   "file_extension": ".py",
   "mimetype": "text/x-python",
   "name": "python",
   "nbconvert_exporter": "python",
   "pygments_lexer": "ipython3",
   "version": "3.6.1"
  }
 },
 "nbformat": 4,
 "nbformat_minor": 2
}
