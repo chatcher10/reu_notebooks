{
 "cells": [
  {
   "cell_type": "markdown",
   "metadata": {
    "toc": "true"
   },
   "source": [
    "# Table of Contents\n",
    " <p>"
   ]
  },
  {
   "cell_type": "code",
   "execution_count": 2,
   "metadata": {
    "ExecuteTime": {
     "end_time": "2017-07-13T23:13:01.192505Z",
     "start_time": "2017-07-13T23:13:01.164232Z"
    }
   },
   "outputs": [],
   "source": [
    "from planet4 import io, region_data, markings\n",
    "# from p4_tools import get_final_markings_counts\n",
    "import pandas as pd\n",
    "import numpy as np\n",
    "import matplotlib.pyplot as plt\n",
    "import scipy.stats as stats\n",
    "from scipy.optimize import root, curve_fit, leastsq\n",
    "import pdb\n",
    "import shapely.geometry as shp\n",
    "import fiona as fio\n",
    "from shapely import affinity\n",
    "from shapely.ops import cascaded_union, unary_union\n",
    "import time"
   ]
  },
  {
   "cell_type": "code",
   "execution_count": 3,
   "metadata": {
    "ExecuteTime": {
     "end_time": "2017-07-13T23:13:01.300695Z",
     "start_time": "2017-07-13T23:13:01.274230Z"
    }
   },
   "outputs": [
    {
     "name": "stdout",
     "output_type": "stream",
     "text": [
      "/Users/klay6683/Dropbox/p4_4Chase/inca\n"
     ]
    }
   ],
   "source": [
    "cd ~/Dropbox/p4_4Chase/inca"
   ]
  },
  {
   "cell_type": "code",
   "execution_count": 5,
   "metadata": {
    "ExecuteTime": {
     "end_time": "2017-07-13T23:13:06.529148Z",
     "start_time": "2017-07-13T23:13:06.296623Z"
    }
   },
   "outputs": [],
   "source": [
    "# read out metadata for season 2 and 3\n",
    "meta = pd.read_csv('inca_metadata.csv')\n",
    "\n",
    "# read out actual markings for fans and blotches, both seasons combined\n",
    "fans = pd.read_csv('inca_fans.csv')\n",
    "blotches = pd.read_csv('inca_blotches.csv')\n",
    "\n",
    "# read out tile coordinate data\n",
    "tiles = pd.read_csv('../inca_tile_coords.csv', index_col=0)"
   ]
  },
  {
   "cell_type": "code",
   "execution_count": 6,
   "metadata": {
    "ExecuteTime": {
     "end_time": "2017-07-13T23:13:07.141458Z",
     "start_time": "2017-07-13T23:13:07.112723Z"
    },
    "collapsed": true
   },
   "outputs": [],
   "source": [
    "# find unique obsids in the fans and blotches catalogs\n",
    "fimg_names = fans.image_name.unique()\n",
    "bimg_names = blotches.image_name.unique()\n",
    "fimg_id = fans.image_id.unique()\n",
    "bimg_id = blotches.image_id.unique()"
   ]
  },
  {
   "cell_type": "code",
   "execution_count": 7,
   "metadata": {
    "ExecuteTime": {
     "end_time": "2017-07-13T23:13:10.470490Z",
     "start_time": "2017-07-13T23:13:10.434554Z"
    },
    "scrolled": true
   },
   "outputs": [
    {
     "data": {
      "text/html": [
       "<div>\n",
       "<style>\n",
       "    .dataframe thead tr:only-child th {\n",
       "        text-align: right;\n",
       "    }\n",
       "\n",
       "    .dataframe thead th {\n",
       "        text-align: left;\n",
       "    }\n",
       "\n",
       "    .dataframe tbody tr th {\n",
       "        vertical-align: top;\n",
       "    }\n",
       "</style>\n",
       "<table border=\"1\" class=\"dataframe\">\n",
       "  <thead>\n",
       "    <tr style=\"text-align: right;\">\n",
       "      <th></th>\n",
       "      <th>angle</th>\n",
       "      <th>distance</th>\n",
       "      <th>image_id</th>\n",
       "      <th>image_name</th>\n",
       "      <th>image_x</th>\n",
       "      <th>image_y</th>\n",
       "      <th>n_votes</th>\n",
       "      <th>spread</th>\n",
       "      <th>version</th>\n",
       "      <th>vote_ratio</th>\n",
       "      <th>x</th>\n",
       "      <th>x_angle</th>\n",
       "      <th>x_tile</th>\n",
       "      <th>y</th>\n",
       "      <th>y_angle</th>\n",
       "      <th>y_tile</th>\n",
       "      <th>obsid</th>\n",
       "    </tr>\n",
       "  </thead>\n",
       "  <tbody>\n",
       "    <tr>\n",
       "      <th>0</th>\n",
       "      <td>53.385830</td>\n",
       "      <td>97.199588</td>\n",
       "      <td>APF00001wg</td>\n",
       "      <td>ESP_011491_0985</td>\n",
       "      <td>265.069271</td>\n",
       "      <td>39412.967620</td>\n",
       "      <td>23</td>\n",
       "      <td>18.562838</td>\n",
       "      <td>1.0</td>\n",
       "      <td>NaN</td>\n",
       "      <td>265.069271</td>\n",
       "      <td>0.587475</td>\n",
       "      <td>1.0</td>\n",
       "      <td>504.967620</td>\n",
       "      <td>0.790627</td>\n",
       "      <td>72.0</td>\n",
       "      <td>ESP_011491_0985</td>\n",
       "    </tr>\n",
       "    <tr>\n",
       "      <th>1</th>\n",
       "      <td>48.048329</td>\n",
       "      <td>82.124666</td>\n",
       "      <td>APF00001wg</td>\n",
       "      <td>ESP_011491_0985</td>\n",
       "      <td>398.417188</td>\n",
       "      <td>39414.206417</td>\n",
       "      <td>19</td>\n",
       "      <td>30.619872</td>\n",
       "      <td>1.0</td>\n",
       "      <td>NaN</td>\n",
       "      <td>398.417188</td>\n",
       "      <td>0.664924</td>\n",
       "      <td>1.0</td>\n",
       "      <td>506.206417</td>\n",
       "      <td>0.739726</td>\n",
       "      <td>72.0</td>\n",
       "      <td>ESP_011491_0985</td>\n",
       "    </tr>\n",
       "    <tr>\n",
       "      <th>2</th>\n",
       "      <td>44.600405</td>\n",
       "      <td>118.157943</td>\n",
       "      <td>APF00001wg</td>\n",
       "      <td>ESP_011491_0985</td>\n",
       "      <td>258.242535</td>\n",
       "      <td>39185.726441</td>\n",
       "      <td>21</td>\n",
       "      <td>17.102321</td>\n",
       "      <td>1.0</td>\n",
       "      <td>NaN</td>\n",
       "      <td>258.242535</td>\n",
       "      <td>0.710171</td>\n",
       "      <td>1.0</td>\n",
       "      <td>277.726441</td>\n",
       "      <td>0.700333</td>\n",
       "      <td>72.0</td>\n",
       "      <td>ESP_011491_0985</td>\n",
       "    </tr>\n",
       "    <tr>\n",
       "      <th>3</th>\n",
       "      <td>37.936710</td>\n",
       "      <td>120.448379</td>\n",
       "      <td>APF00001wg</td>\n",
       "      <td>ESP_011491_0985</td>\n",
       "      <td>133.749250</td>\n",
       "      <td>38949.274561</td>\n",
       "      <td>7</td>\n",
       "      <td>28.439226</td>\n",
       "      <td>1.0</td>\n",
       "      <td>NaN</td>\n",
       "      <td>133.749250</td>\n",
       "      <td>0.778927</td>\n",
       "      <td>1.0</td>\n",
       "      <td>41.274561</td>\n",
       "      <td>0.607180</td>\n",
       "      <td>72.0</td>\n",
       "      <td>ESP_011491_0985</td>\n",
       "    </tr>\n",
       "    <tr>\n",
       "      <th>4</th>\n",
       "      <td>51.724405</td>\n",
       "      <td>188.733132</td>\n",
       "      <td>APF00001wg</td>\n",
       "      <td>ESP_011491_0985</td>\n",
       "      <td>127.561188</td>\n",
       "      <td>39080.980482</td>\n",
       "      <td>4</td>\n",
       "      <td>28.363391</td>\n",
       "      <td>1.0</td>\n",
       "      <td>NaN</td>\n",
       "      <td>127.561188</td>\n",
       "      <td>0.612441</td>\n",
       "      <td>1.0</td>\n",
       "      <td>172.980482</td>\n",
       "      <td>0.776165</td>\n",
       "      <td>72.0</td>\n",
       "      <td>ESP_011491_0985</td>\n",
       "    </tr>\n",
       "  </tbody>\n",
       "</table>\n",
       "</div>"
      ],
      "text/plain": [
       "       angle    distance    image_id       image_name     image_x  \\\n",
       "0  53.385830   97.199588  APF00001wg  ESP_011491_0985  265.069271   \n",
       "1  48.048329   82.124666  APF00001wg  ESP_011491_0985  398.417188   \n",
       "2  44.600405  118.157943  APF00001wg  ESP_011491_0985  258.242535   \n",
       "3  37.936710  120.448379  APF00001wg  ESP_011491_0985  133.749250   \n",
       "4  51.724405  188.733132  APF00001wg  ESP_011491_0985  127.561188   \n",
       "\n",
       "        image_y  n_votes     spread  version  vote_ratio           x  \\\n",
       "0  39412.967620       23  18.562838      1.0         NaN  265.069271   \n",
       "1  39414.206417       19  30.619872      1.0         NaN  398.417188   \n",
       "2  39185.726441       21  17.102321      1.0         NaN  258.242535   \n",
       "3  38949.274561        7  28.439226      1.0         NaN  133.749250   \n",
       "4  39080.980482        4  28.363391      1.0         NaN  127.561188   \n",
       "\n",
       "    x_angle  x_tile           y   y_angle  y_tile            obsid  \n",
       "0  0.587475     1.0  504.967620  0.790627    72.0  ESP_011491_0985  \n",
       "1  0.664924     1.0  506.206417  0.739726    72.0  ESP_011491_0985  \n",
       "2  0.710171     1.0  277.726441  0.700333    72.0  ESP_011491_0985  \n",
       "3  0.778927     1.0   41.274561  0.607180    72.0  ESP_011491_0985  \n",
       "4  0.612441     1.0  172.980482  0.776165    72.0  ESP_011491_0985  "
      ]
     },
     "execution_count": 7,
     "metadata": {},
     "output_type": "execute_result"
    }
   ],
   "source": [
    "fans.head()"
   ]
  },
  {
   "cell_type": "code",
   "execution_count": 9,
   "metadata": {
    "ExecuteTime": {
     "end_time": "2017-07-13T23:13:18.729057Z",
     "start_time": "2017-07-13T23:13:18.705874Z"
    },
    "collapsed": true
   },
   "outputs": [],
   "source": [
    "pd.set_option('max_columns', 40)"
   ]
  },
  {
   "cell_type": "code",
   "execution_count": 10,
   "metadata": {
    "ExecuteTime": {
     "end_time": "2017-07-13T23:13:20.948661Z",
     "start_time": "2017-07-13T23:13:20.855947Z"
    }
   },
   "outputs": [],
   "source": [
    "fans = fans.merge(tiles)\n",
    "blotches = blotches.merge(tiles)"
   ]
  },
  {
   "cell_type": "code",
   "execution_count": 11,
   "metadata": {
    "ExecuteTime": {
     "end_time": "2017-07-13T23:13:22.225722Z",
     "start_time": "2017-07-13T23:13:22.200255Z"
    },
    "collapsed": true
   },
   "outputs": [],
   "source": [
    "for frame in [fans, blotches]:\n",
    "    frame['tile_lat'] = frame['PlanetocentricLatitude']\n",
    "    frame['tile_lon'] = frame['PositiveEast360Longitude']"
   ]
  },
  {
   "cell_type": "code",
   "execution_count": 12,
   "metadata": {
    "ExecuteTime": {
     "end_time": "2017-07-13T23:13:23.976819Z",
     "start_time": "2017-07-13T23:13:23.951828Z"
    }
   },
   "outputs": [],
   "source": [
    "blotches['area'] = np.pi * blotches.radius_1 * blotches.radius_2"
   ]
  },
  {
   "cell_type": "code",
   "execution_count": 13,
   "metadata": {
    "ExecuteTime": {
     "end_time": "2017-07-13T23:13:25.404000Z",
     "start_time": "2017-07-13T23:13:25.376174Z"
    }
   },
   "outputs": [
    {
     "name": "stdout",
     "output_type": "stream",
     "text": [
      "maximum map_scale: 1.0 ; min_fan_marking: 10.0 ; min_bl_area: 314.159265359\n"
     ]
    }
   ],
   "source": [
    "# find what size fans should be removed for fair comparison\n",
    "min_fan_pixels = fans.distance.min()\n",
    "min_bl_area = blotches.area.min()\n",
    "\n",
    "max_scale = meta.map_scale.max()\n",
    "print('maximum map_scale:',  max_scale, '; min_fan_marking:', min_fan_pixels, '; min_bl_area:', min_bl_area)"
   ]
  },
  {
   "cell_type": "code",
   "execution_count": 14,
   "metadata": {
    "ExecuteTime": {
     "end_time": "2017-07-13T23:13:26.825851Z",
     "start_time": "2017-07-13T23:13:26.800020Z"
    }
   },
   "outputs": [],
   "source": [
    "# if the minimal fan marking tool is = 10 pixels at max_bin = 4, it will correspond to  \n",
    "# min_fan_pixels * max_binning / image_binning\n",
    "meta['min_fan'] = min_fan_pixels * meta.map_scale.max() // meta.map_scale + 1\n",
    "\n",
    "# if the minimal blotch marking tool is = 80 sq. pixels at max_bin = 4, it will correspond to  \n",
    "# min_bl_area * max_binning^2 / image_binning^2\n",
    "meta['min_bl'] = min_bl_area * meta.map_scale.max()**2 // meta.map_scale**2 + 1"
   ]
  },
  {
   "cell_type": "code",
   "execution_count": 15,
   "metadata": {
    "ExecuteTime": {
     "end_time": "2017-07-13T23:13:28.136718Z",
     "start_time": "2017-07-13T23:13:28.079901Z"
    }
   },
   "outputs": [],
   "source": [
    "blotches = blotches.merge(meta)\n",
    "fans = fans.merge(meta)\n",
    "blotches['type'] = 'b'\n",
    "fans['type'] = 'f'"
   ]
  },
  {
   "cell_type": "code",
   "execution_count": 16,
   "metadata": {
    "ExecuteTime": {
     "end_time": "2017-07-13T23:13:29.801816Z",
     "start_time": "2017-07-13T23:13:29.776174Z"
    },
    "collapsed": true
   },
   "outputs": [],
   "source": [
    "blotches['valid_marking'] = blotches.area > blotches.min_bl\n",
    "fans['valid_marking'] = fans.distance > fans.min_fan"
   ]
  },
  {
   "cell_type": "markdown",
   "metadata": {},
   "source": [
    "just as a reminder of pandas power, above 2 lines replaced below very hard to read code..."
   ]
  },
  {
   "cell_type": "code",
   "execution_count": 67,
   "metadata": {
    "ExecuteTime": {
     "end_time": "2017-07-13T22:49:32.215883Z",
     "start_time": "2017-07-13T22:49:32.189734Z"
    }
   },
   "outputs": [],
   "source": [
    "# # mark \"valid_marking\" key to be False for blotch markings smaller than min_bl for that image\n",
    "# print(len(blotches))\n",
    "# for i in range(len(blotches)):\n",
    "#     if (blotches.season[i] == 2): \n",
    "#         nr_image =  np.where(s2_meta.obsid == blotches.obsid[i])[0][0]        \n",
    "#         min_b = s2_meta.min_bl[ nr_image  ]         \n",
    "#         if (blotches.area[i] < min_b ):\n",
    "#             blotches.valid_marking[i] = False\n",
    "#     else: \n",
    "#         nr_image =  np.where(s3_meta.obsid == blotches.obsid[i])[0][0]        \n",
    "#         min_bl = s3_meta.min_bl[ nr_image  ]         \n",
    "#         if (blotches.area[i] < min_b ):\n",
    "#             blotches.valid_marking[i] = False\n",
    "            \n",
    "# # mark \"valid_marking\" key to be False for fan markings smaller than min_fan for that image\n",
    "# for i in range(len(fans)):\n",
    "#     if (fans.season[i] == 2): \n",
    "#         nr_image =  np.where(s2_meta.obsid == fans.obsid[i])[0][0]        \n",
    "#         min_f = s2_meta.min_fan[ nr_image  ]         \n",
    "#         if (fans.distance[i] < min_f ):\n",
    "#             fans.valid_marking[i] = False\n",
    "#     else: \n",
    "#         nr_image =  np.where(s3_meta.obsid == fans.obsid[i])[0][0]        \n",
    "#         min_f = s3_meta.min_fan[ nr_image  ]         \n",
    "#         if (fans.distance[i] < min_f ):\n",
    "#             fans.valid_marking[i] = False"
   ]
  },
  {
   "cell_type": "code",
   "execution_count": 17,
   "metadata": {
    "ExecuteTime": {
     "end_time": "2017-07-13T23:13:33.948374Z",
     "start_time": "2017-07-13T23:13:33.887514Z"
    }
   },
   "outputs": [],
   "source": [
    "true_fans = fans[fans.valid_marking==True]\n",
    "true_blotches = blotches[blotches.valid_marking==True]"
   ]
  },
  {
   "cell_type": "code",
   "execution_count": 21,
   "metadata": {
    "ExecuteTime": {
     "end_time": "2017-07-13T23:15:58.255097Z",
     "start_time": "2017-07-13T23:15:58.219965Z"
    }
   },
   "outputs": [],
   "source": [
    "objects = pd.concat([true_fans, true_blotches])"
   ]
  },
  {
   "cell_type": "code",
   "execution_count": 22,
   "metadata": {
    "ExecuteTime": {
     "end_time": "2017-07-13T23:16:15.213610Z",
     "start_time": "2017-07-13T23:16:15.163248Z"
    },
    "collapsed": true
   },
   "outputs": [],
   "source": [
    "objects.rename({'image_name':'name'}, inplace=True)"
   ]
  },
  {
   "cell_type": "code",
   "execution_count": 23,
   "metadata": {
    "ExecuteTime": {
     "end_time": "2017-07-13T23:16:20.890172Z",
     "start_time": "2017-07-13T23:16:20.865166Z"
    }
   },
   "outputs": [
    {
     "data": {
      "text/plain": [
       "'[-9998, -9998, -9998, -9998, 2, 2, -9998, -9998, -9998, -9998, 4, 4, 4, 4]'"
      ]
     },
     "execution_count": 23,
     "metadata": {},
     "output_type": "execute_result"
    }
   ],
   "source": [
    "objects.binning.iloc[0]"
   ]
  },
  {
   "cell_type": "code",
   "execution_count": 24,
   "metadata": {
    "ExecuteTime": {
     "end_time": "2017-07-13T23:16:22.225516Z",
     "start_time": "2017-07-13T23:16:22.201463Z"
    },
    "collapsed": true
   },
   "outputs": [],
   "source": [
    "def get_bins(binning):\n",
    "    arr = np.fromstring(binning.strip('[]'), dtype=np.int, sep=',')\n",
    "    return arr[4]"
   ]
  },
  {
   "cell_type": "code",
   "execution_count": 25,
   "metadata": {
    "ExecuteTime": {
     "end_time": "2017-07-13T23:16:23.023026Z",
     "start_time": "2017-07-13T23:16:22.937496Z"
    }
   },
   "outputs": [],
   "source": [
    "objects['binning'] = objects.binning.map(get_bins)"
   ]
  },
  {
   "cell_type": "code",
   "execution_count": 26,
   "metadata": {
    "ExecuteTime": {
     "end_time": "2017-07-13T23:16:29.387689Z",
     "start_time": "2017-07-13T23:16:29.362675Z"
    }
   },
   "outputs": [
    {
     "data": {
      "text/plain": [
       "2"
      ]
     },
     "execution_count": 26,
     "metadata": {},
     "output_type": "execute_result"
    }
   ],
   "source": [
    "objects.binning.iloc[0]"
   ]
  },
  {
   "cell_type": "code",
   "execution_count": 133,
   "metadata": {
    "ExecuteTime": {
     "end_time": "2017-07-13T23:12:44.963624Z",
     "start_time": "2017-07-13T23:12:44.939355Z"
    }
   },
   "outputs": [],
   "source": [
    "# # create new data frame for all objects and metadata, select only objects that are valid markings\n",
    "# objects = pd.DataFrame({'name':pd.concat((fans.image_name[fans.valid_marking==True],blotches.image_name[blotches.valid_marking==True])),\\\n",
    "#                         'type':np.zeros(len(fans.valid_marking[fans.valid_marking==True])+len(blotches.valid_marking[blotches.valid_marking==True])),\\\n",
    "#                         'long':pd.concat((fans.distance[fans.valid_marking==True],blotches.radius_1[blotches.valid_marking==True])),\\\n",
    "#                         'short':pd.concat((fans.spread[fans.valid_marking==True],blotches.radius_2[blotches.valid_marking==True])),\\\n",
    "#                         'x':pd.concat((fans.image_x[fans.valid_marking==True],blotches.image_x[blotches.valid_marking==True])),\\\n",
    "#                         'y':pd.concat((fans.image_y[fans.valid_marking==True],blotches.image_y[blotches.valid_marking==True])),\\\n",
    "#                         'angle':pd.concat((fans.angle[fans.valid_marking==True],blotches.angle[blotches.valid_marking==True])),\\\n",
    "#                         'binning':np.zeros(len(fans.valid_marking[fans.valid_marking==True])+len(blotches.valid_marking[blotches.valid_marking==True])),\\\n",
    "#                         'l_s':np.zeros(len(fans.valid_marking[fans.valid_marking==True])+len(blotches.valid_marking[blotches.valid_marking==True])),\\\n",
    "#                         'x_angle':pd.concat((fans.x_angle[fans.valid_marking==True],blotches.x_angle[blotches.valid_marking==True])),\\\n",
    "#                         'y_angle':pd.concat((fans.y_angle[fans.valid_marking==True],blotches.y_angle[blotches.valid_marking==True])),\\\n",
    "#                         'tile_lat':pd.concat((fans.tile_lat[fans.valid_marking==True],blotches.tile_lat[blotches.valid_marking==True])),\\\n",
    "#                         'tile_lon':pd.concat((fans.tile_lon[fans.valid_marking==True],blotches.tile_lon[blotches.valid_marking==True]))}).reset_index(drop=True)\n",
    "# meta = pd.concat((s2_meta,s3_meta)).reset_index(drop=True)"
   ]
  },
  {
   "cell_type": "markdown",
   "metadata": {},
   "source": [
    "below is already "
   ]
  },
  {
   "cell_type": "code",
   "execution_count": 7,
   "metadata": {
    "collapsed": true
   },
   "outputs": [],
   "source": [
    "# get list of unique images\n",
    "img_unique = objects.name.unique()\n",
    "\n",
    "# add columns for coverage and season in the meta dataframe\n",
    "meta['coverage'] = 0\n",
    "meta['coverage_redundant'] = 0\n",
    "meta['season'] = 0\n",
    "meta.iloc[:len(s2_meta),13] = 2\n",
    "meta.iloc[len(s2_meta):,13] = 3\n",
    "\n",
    "# add column for binning and l_s, fill with info from meta\n",
    "for k in range(img_unique.size):\n",
    "    loc = np.where(objects.name==img_unique[k])[0]\n",
    "    m_loc = np.where(meta.obsid==img_unique[k])[0]\n",
    "    objects.loc[loc,'binning'] = np.asarray(meta.loc[m_loc,'binning'])\n",
    "    objects.loc[loc,'l_s'] = np.asarray(meta.loc[m_loc,'l_s'])\n",
    "\n",
    "# record type of each object - they are still in order from concatenation so this can be done with indexing\n",
    "split = len(fans.valid_marking[fans.valid_marking==True])\n",
    "objects.loc[:split,'type'] = 'f'\n",
    "objects.loc[split:,'type'] = 'b'\n",
    "\n",
    "#re-sort objects according to image, so that blotches and fans for the same image won't be split up\n",
    "objects = objects.sort_values(by='name').reset_index(drop=True)\n",
    "meta = meta.sort_values(by='obsid').reset_index(drop=True)"
   ]
  },
  {
   "cell_type": "code",
   "execution_count": 8,
   "metadata": {
    "collapsed": true
   },
   "outputs": [],
   "source": [
    "# create a list to store points corresponding to the corners (bounds) of each HiRise image\n",
    "# and a list to store the polygons made from the sets of points\n",
    "points = [None] * 4\n",
    "img_shapes = [None] * len(img_unique)\n",
    "plt.figure(1)\n",
    "for i in range(len(img_unique)):\n",
    "    boundshi = max(objects.tile_lat[objects.name==img_unique[i]])\n",
    "    boundsri = max(objects.tile_lon[objects.name==img_unique[i]])\n",
    "    boundslo = min(objects.tile_lat[objects.name==img_unique[i]])\n",
    "    boundsle = min(objects.tile_lon[objects.name==img_unique[i]])\n",
    "    points[0] = (boundshi,boundsri)\n",
    "    points[1] = (boundslo,boundsri)\n",
    "    points[2] = (boundslo,boundsle)\n",
    "    points[3] = (boundshi,boundsle)\n",
    "    img_shapes[i] = shp.Polygon(points[:])\n",
    "    # plot the outlines of the HiRise images as an example\n",
    "    x,y = img_shapes[i].exterior.xy\n",
    "    plt.plot(x,y)"
   ]
  },
  {
   "cell_type": "code",
   "execution_count": 9,
   "metadata": {
    "collapsed": true
   },
   "outputs": [],
   "source": [
    "# create arrays to store info on non-overlapping images\n",
    "misses = np.zeros((len(img_unique),len(img_unique)))\n",
    "ind2drop = np.zeros((len(img_unique)),dtype=int)\n",
    "\n",
    "# loop through images\n",
    "for i in range(len(img_unique)):\n",
    "    # loop through other images to check image [i]\n",
    "    for j in range(len(img_unique)-i-1):\n",
    "        # check if image[i] intersects the current image, if not, add a 1 in 'misses' array \n",
    "        # with index corresponding to the two non-overlapping images\n",
    "        if img_shapes[i].intersects(img_shapes[i+j+1])==False:\n",
    "            misses[i,i+j+1] = 1 \n",
    "\n",
    "# loop through possible cases of non-overlap\n",
    "for n in range(len(img_unique)):\n",
    "    # if all images intersect somewhwere, misses will be only zeros and the loop should be broken\n",
    "    if np.sum(misses)==0:\n",
    "        break\n",
    "    # get indices of flags in 'misses'\n",
    "    miss_inds = np.where(misses!=0)\n",
    "    # get which images were involved, sort by involvement\n",
    "    miss_unique = np.unique(miss_inds,return_counts=True)\n",
    "    # find which image came up the most in 'misses' - this is the one to remove next iteration\n",
    "    miss_max = max(miss_unique[1])\n",
    "    miss_max_ind = np.where(miss_unique[1]==miss_max)[0][0]\n",
    "    # get the index of that image in the collection of polygons 'img_shapes', add one so that \n",
    "    # the index '0' wouldn't get missed\n",
    "    ind2drop[n] = int(miss_unique[0][miss_max_ind]) + 1\n",
    "    # clear 'misses' of any flags corresponding to that image becuase it has been found all ready\n",
    "    misses[:,int(ind2drop[n])-1] = 0\n",
    "    misses[int(ind2drop[n])-1,:] = 0"
   ]
  },
  {
   "cell_type": "code",
   "execution_count": 10,
   "metadata": {
    "collapsed": true
   },
   "outputs": [],
   "source": [
    "# trim off excess zeroes in 'ind2drop'\n",
    "ind2drop = np.delete(ind2drop,np.where(ind2drop==0.0))\n",
    "\n",
    "# 'safe' is 1 where the index refers to an object to-be-dropped, and 0 otherwise (zeroes are safe objects)\n",
    "safe = np.zeros((len(img_unique)))\n",
    "safe[ind2drop-1] = 1\n",
    "\n",
    "# 'safes' are the indices of all safe objects, the first of which is the starting point for the next loop,\n",
    "# which is necessary to know in cases where the first few images are to-be-dropped\n",
    "safes = np.where(safe==0)\n",
    "start = int(safes[0][0])"
   ]
  },
  {
   "cell_type": "code",
   "execution_count": 11,
   "metadata": {},
   "outputs": [
    {
     "data": {
      "image/png": "[encoded data removed]",
      "text/plain": [
       "<matplotlib.figure.Figure at 0x11ad74ac8>"
      ]
     },
     "metadata": {},
     "output_type": "display_data"
    }
   ],
   "source": [
    "# loop through images to define area with highest degree of overlap\n",
    "for i in range(len(img_unique)):\n",
    "    # first iteration - intersection of first and second object is the temporary object\n",
    "    if i == 0:\n",
    "        inter_temp = img_shapes[i].intersection(img_shapes[i+1])\n",
    "        # if '0' or '1' is an index-to-drop, temporary object is just the first safe object\n",
    "        if any([z-1==i for z in ind2drop]) or any([z-1==i+1 for z in ind2drop]):\n",
    "            inter_temp = img_shapes[start]\n",
    "        continue\n",
    "    # if this is the last iteration, temporary object is the final object\n",
    "    elif i == (len(img_unique)-1):\n",
    "        inter = inter_temp\n",
    "        break\n",
    "    # if the loop is on an index-to-drop, continue to next iteration, omitting this object\n",
    "    # from the calculation of 'inter'\n",
    "    elif any([z-1==i+1 for z in ind2drop])==True:\n",
    "        continue\n",
    "    # normal action - update temporary object as intersection with the next object in 'img_shapes'\n",
    "    else:\n",
    "        inter_temp = inter_temp.intersection(img_shapes[i+1])\n",
    "\n",
    "# plot the outline of the most overlapped area found in black, should look reasonable on previous plot\n",
    "xi,yi = inter.exterior.xy\n",
    "plt.plot(xi,yi,'k')\n",
    "plt.show()"
   ]
  },
  {
   "cell_type": "code",
   "execution_count": 12,
   "metadata": {
    "collapsed": true
   },
   "outputs": [],
   "source": [
    "# 'buffer' is a factor that determines how far inside or outside the extents of 'inter' an object's tile's \n",
    "# must be to be considered for calculation. a positive number allows objects outside 'inter' to be considered\n",
    "buffer = 0.0005\n",
    "# define lat/lon corresponding to corners of 'inter'\n",
    "lo_lat = xi[2] * (1. + buffer)\n",
    "hi_lat = xi[0] * (1. - buffer)\n",
    "lo_lon = yi[0] * (1. - buffer)\n",
    "hi_lon = yi[2] * (1. + buffer)\n",
    "\n",
    "# 'overlap_objs' are all the objects whose tile center is within the allowable distance around 'inter'\n",
    "overlap_objs = objects.loc[(objects['tile_lat'] > lo_lat) & (objects['tile_lon'] < hi_lon) & (objects['tile_lat'] < hi_lat) & (objects['tile_lon'] > lo_lon)]\n",
    "ol_img_unique = overlap_objs.name.unique()"
   ]
  },
  {
   "cell_type": "code",
   "execution_count": 13,
   "metadata": {
    "collapsed": true
   },
   "outputs": [],
   "source": [
    "# create arrays to be filled\n",
    "n_ol_img = len(ol_img_unique)\n",
    "n_marks = np.zeros((n_ol_img,3))\n",
    "n_objs = overlap_objs.name.value_counts()[0]\n",
    "img_fans = np.zeros((n_ol_img,n_objs))\n",
    "img_blotches = np.zeros((n_ol_img,n_objs))\n",
    "f_histmax = np.zeros((n_ol_img))\n",
    "b_histmax = np.zeros((n_ol_img))"
   ]
  },
  {
   "cell_type": "code",
   "execution_count": 14,
   "metadata": {
    "collapsed": true
   },
   "outputs": [],
   "source": [
    "# loop through each image\n",
    "for i in range(n_ol_img):\n",
    "    # get set of fans & blotches for each image, and get list of tiles in which these are contained\n",
    "    fans_ = overlap_objs.name[(overlap_objs.type=='f') & (overlap_objs.name==ol_img_unique[i])]\n",
    "    blotches_ = overlap_objs.name[(overlap_objs.type=='b') & (overlap_objs.name==ol_img_unique[i])]\n",
    "    fans_tiles = overlap_objs.tile_lat[(overlap_objs.name==ol_img_unique[i]) & (overlap_objs.type=='f')]\n",
    "    blotches_tiles = overlap_objs.tile_lat[(overlap_objs.name==ol_img_unique[i]) & (overlap_objs.type=='b')]\n",
    "    \n",
    "    # for each image, record l_s and the number of fans & blotches divided by the number of tiles considered\n",
    "    n_marks[i,0] = meta.l_s[meta.obsid==ol_img_unique[i]]\n",
    "    n_marks[i,1] = len(fans_)/len(fans_tiles.value_counts())\n",
    "    n_marks[i,2] = len(blotches_)/len(blotches_tiles.value_counts())\n",
    "    \n",
    "    # get lengths and binnings of fans & blotches for each image, multiply these, fill length array (for fans)\n",
    "    # and area array (for blotches) with result\n",
    "    fan_lengths = overlap_objs.long[(overlap_objs.name==ol_img_unique[i]) & (overlap_objs.type=='f')]\n",
    "    fan_binning = overlap_objs.binning[(overlap_objs.name==ol_img_unique[i]) & (overlap_objs.type=='f')]\n",
    "    img_fans[i,:len(fans_)] = fan_lengths * fan_binning\n",
    "    blotch_len1 = overlap_objs.long[(overlap_objs.name==ol_img_unique[i]) & (overlap_objs.type=='b')]\n",
    "    blotch_len2 = overlap_objs.short[(overlap_objs.name==ol_img_unique[i]) & (overlap_objs.type=='b')]\n",
    "    blotch_binning = overlap_objs.binning[(overlap_objs.name==ol_img_unique[i]) & (overlap_objs.type=='b')]\n",
    "    img_blotches[i,:len(blotches_)] = blotch_len1 * blotch_len2 * blotch_binning * np.pi\n",
    "    \n",
    "    # create a histogram of fans' & blotches' size distribution for each image,\n",
    "    # find max of each histogram, record in 'histmax'\n",
    "    f_hist,f_binedges = np.histogram(img_fans[i,np.where(img_fans[i,:]>0.0)],bins=50)\n",
    "    f_histmax[i] = f_binedges[np.where(f_hist==f_hist.max())[0][0]]\n",
    "    b_hist,b_binedges = np.histogram(img_blotches[i,np.where(img_blotches[i,:]>0.0)],bins=50)\n",
    "    b_histmax[i] = b_binedges[np.where(b_hist==b_hist.max())[0][0]]"
   ]
  },
  {
   "cell_type": "code",
   "execution_count": 15,
   "metadata": {},
   "outputs": [
    {
     "data": {
      "image/png": "[encoded data removed]",
      "text/plain": [
       "<matplotlib.figure.Figure at 0x11ca66dd8>"
      ]
     },
     "metadata": {},
     "output_type": "display_data"
    },
    {
     "data": {
      "image/png": "[encoded data removed]",
      "text/plain": [
       "<matplotlib.figure.Figure at 0x11baebef0>"
      ]
     },
     "metadata": {},
     "output_type": "display_data"
    }
   ],
   "source": [
    "# plot data\n",
    "plt.figure(2)\n",
    "plt.subplot(121)\n",
    "plt.scatter(n_marks[:len(s2_meta),0],n_marks[:len(s2_meta),1],label='MY29')\n",
    "plt.scatter(n_marks[len(s2_meta):,0],n_marks[len(s2_meta):,1],label='MY30')\n",
    "plt.legend()\n",
    "plt.title('Inca number of markings - fans')\n",
    "plt.xlabel('L_s (degrees)')\n",
    "plt.ylabel('# markings / # tiles surveyed')\n",
    "plt.subplot(122)\n",
    "plt.scatter(n_marks[:len(s2_meta),0],n_marks[:len(s2_meta),2],label='MY29')\n",
    "plt.scatter(n_marks[len(s2_meta):,0],n_marks[len(s2_meta):,2],label='MY30')\n",
    "plt.legend()\n",
    "plt.title('Inca number of markings - blotches')\n",
    "plt.xlabel('L_s (degrees)')\n",
    "plt.ylabel('# markings / # tiles surveyed')\n",
    "plt.figure(3)\n",
    "plt.subplot(121)\n",
    "plt.scatter(n_marks[:len(s2_meta),0],f_histmax[:len(s2_meta)],label='MY29')\n",
    "plt.scatter(n_marks[len(s2_meta):,0],f_histmax[len(s2_meta):],label='MY30')\n",
    "plt.legend()\n",
    "plt.title('Inca fan length')\n",
    "plt.xlabel('L_s (degrees)')\n",
    "plt.ylabel('hist max fan length (pixels*binning)')\n",
    "plt.subplot(122)\n",
    "plt.scatter(n_marks[:len(s2_meta),0],b_histmax[:len(s2_meta)],label='MY29')\n",
    "plt.scatter(n_marks[len(s2_meta):,0],b_histmax[len(s2_meta):],label='MY30')\n",
    "plt.legend()\n",
    "plt.title('Inca blotch area')\n",
    "plt.xlabel('L_s (degrees)')\n",
    "plt.ylabel('hist max blotch area (pixels*binning)')\n",
    "plt.show()"
   ]
  },
  {
   "cell_type": "code",
   "execution_count": null,
   "metadata": {
    "collapsed": true
   },
   "outputs": [],
   "source": []
  }
 ],
 "metadata": {
  "kernelspec": {
   "display_name": "Python [default]",
   "language": "python",
   "name": "python3"
  },
  "language_info": {
   "codemirror_mode": {
    "name": "ipython",
    "version": 3
   },
   "file_extension": ".py",
   "mimetype": "text/x-python",
   "name": "python",
   "nbconvert_exporter": "python",
   "pygments_lexer": "ipython3",
   "version": "3.6.1"
  },
  "toc": {
   "colors": {
    "hover_highlight": "#DAA520",
    "navigate_num": "#000000",
    "navigate_text": "#333333",
    "running_highlight": "#FF0000",
    "selected_highlight": "#FFD700",
    "sidebar_border": "#EEEEEE",
    "wrapper_background": "#FFFFFF"
   },
   "moveMenuLeft": true,
   "nav_menu": {
    "height": "12px",
    "width": "252px"
   },
   "navigate_menu": true,
   "number_sections": false,
   "sideBar": false,
   "threshold": 4,
   "toc_cell": true,
   "toc_section_display": "block",
   "toc_window_display": false,
   "widenNotebook": false
  }
 },
 "nbformat": 4,
 "nbformat_minor": 2
}
